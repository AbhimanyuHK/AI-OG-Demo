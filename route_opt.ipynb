{
 "cells": [
  {
   "cell_type": "code",
   "execution_count": 1,
   "id": "634575ac-34ec-4a44-b74b-11b8d3c3c634",
   "metadata": {},
   "outputs": [
    {
     "name": "stderr",
     "output_type": "stream",
     "text": [
      "C:\\Users\\manyu\\AppData\\Local\\Temp\\ipykernel_7100\\339651662.py:24: SettingWithCopyWarning: \n",
      "A value is trying to be set on a copy of a slice from a DataFrame.\n",
      "Try using .loc[row_indexer,col_indexer] = value instead\n",
      "\n",
      "See the caveats in the documentation: https://pandas.pydata.org/pandas-docs/stable/user_guide/indexing.html#returning-a-view-versus-a-copy\n",
      "  route_df[\"color\"] = route_df.apply(lambda x: tuple(int(\"ffe800\"[i: i + 2], 16) for i in (0, 2, 4)), axis=1)\n"
     ]
    },
    {
     "name": "stdout",
     "output_type": "stream",
     "text": [
      "         name                                               path  \\\n",
      "0   AZ - West  [[12.9359658083896, 77.6113117509235], [12.914...   \n",
      "1  GA - North  [[12.9091751039833, 77.6005861284724], [12.945...   \n",
      "2  GA - South  [[12.9091751039833, 77.6005861284724], [12.892...   \n",
      "3   GA - West  [[12.9091751039833, 77.6005861284724], [12.914...   \n",
      "4   NJ - East  [[12.9293772293161, 77.5913562480048], [12.920...   \n",
      "5  NJ - North  [[12.9293772293161, 77.5913562480048], [12.945...   \n",
      "\n",
      "           color  \n",
      "0  (255, 232, 0)  \n",
      "1  (255, 232, 0)  \n",
      "2  (255, 232, 0)  \n",
      "3  (255, 232, 0)  \n",
      "4  (255, 232, 0)  \n",
      "5  (255, 232, 0)  \n"
     ]
    }
   ],
   "source": [
    "import osmnx as ox\n",
    "import pandas as pd\n",
    "\n",
    "ox.settings.use_cache = True\n",
    "ox.settings.log_console = True\n",
    "\n",
    "# Import Module\n",
    "\n",
    "\n",
    "df_store = pd.read_excel(\"data/demand_and_supply.xlsx\", sheet_name=\"Store\")\n",
    "df_terminal = pd.read_excel(\"data/demand_and_supply.xlsx\", sheet_name=\"Terminal\")\n",
    "\n",
    "df_plan = pd.read_csv(\"data/demand_and_supply_plan.csv\")\n",
    "df_plan = df_plan[df_plan[\"supply plan\"] != 0]\n",
    "\n",
    "df = pd.merge(df_plan, df_store, on=\"store\", how=\"inner\")\n",
    "df = pd.merge(df, df_terminal, on=\"terminal\", how=\"inner\", suffixes=('_s', '_t'))\n",
    "\n",
    "df[\"name\"] = df[\"store\"] + \" - \" + df[\"terminal\"]\n",
    "df[\"path\"] = df.apply(lambda x: [[x[\"lat_s\"], x[\"lon_s\"]], [x[\"lat_t\"], x[\"lon_t\"]]], axis=1)\n",
    "# print(df)\n",
    "\n",
    "route_df = df[[\"name\", \"path\"]]\n",
    "route_df[\"color\"] = route_df.apply(lambda x: tuple(int(\"ffe800\"[i: i + 2], 16) for i in (0, 2, 4)), axis=1)\n",
    "\n",
    "print(route_df)\n",
    "\n",
    "# get graph and add free-flow travel times to its edges\n",
    "G = ox.graph_from_place(\"Bengaluru, Karnataka, India\", network_type=\"drive\")\n",
    "G = ox.add_edge_travel_times(ox.add_edge_speeds(G))\n",
    "\n",
    "\n"
   ]
  },
  {
   "cell_type": "code",
   "execution_count": 9,
   "id": "dde69a23-b518-430e-a07b-cbf235b23afb",
   "metadata": {},
   "outputs": [
    {
     "name": "stderr",
     "output_type": "stream",
     "text": [
      "C:\\Users\\manyu\\AppData\\Local\\Temp\\ipykernel_7100\\1715907584.py:15: SettingWithCopyWarning: \n",
      "A value is trying to be set on a copy of a slice from a DataFrame.\n",
      "Try using .loc[row_indexer,col_indexer] = value instead\n",
      "\n",
      "See the caveats in the documentation: https://pandas.pydata.org/pandas-docs/stable/user_guide/indexing.html#returning-a-view-versus-a-copy\n",
      "  route_df[\"color\"] = route_df.apply(lambda x: tuple(int(\"ffe800\"[i: i + 2], 16) for i in (0, 2, 4)), axis=1)\n"
     ]
    },
    {
     "data": {
      "text/html": [
       "<div>\n",
       "<style scoped>\n",
       "    .dataframe tbody tr th:only-of-type {\n",
       "        vertical-align: middle;\n",
       "    }\n",
       "\n",
       "    .dataframe tbody tr th {\n",
       "        vertical-align: top;\n",
       "    }\n",
       "\n",
       "    .dataframe thead th {\n",
       "        text-align: right;\n",
       "    }\n",
       "</style>\n",
       "<table border=\"1\" class=\"dataframe\">\n",
       "  <thead>\n",
       "    <tr style=\"text-align: right;\">\n",
       "      <th></th>\n",
       "      <th>name</th>\n",
       "      <th>path</th>\n",
       "      <th>color</th>\n",
       "    </tr>\n",
       "  </thead>\n",
       "  <tbody>\n",
       "    <tr>\n",
       "      <th>0</th>\n",
       "      <td>AZ - West</td>\n",
       "      <td>[[12.9359658083896, 77.6113117509235], [12.914...</td>\n",
       "      <td>(255, 232, 0)</td>\n",
       "    </tr>\n",
       "    <tr>\n",
       "      <th>1</th>\n",
       "      <td>GA - North</td>\n",
       "      <td>[[12.9091751039833, 77.6005861284724], [12.945...</td>\n",
       "      <td>(255, 232, 0)</td>\n",
       "    </tr>\n",
       "    <tr>\n",
       "      <th>2</th>\n",
       "      <td>GA - South</td>\n",
       "      <td>[[12.9091751039833, 77.6005861284724], [12.892...</td>\n",
       "      <td>(255, 232, 0)</td>\n",
       "    </tr>\n",
       "    <tr>\n",
       "      <th>3</th>\n",
       "      <td>GA - West</td>\n",
       "      <td>[[12.9091751039833, 77.6005861284724], [12.914...</td>\n",
       "      <td>(255, 232, 0)</td>\n",
       "    </tr>\n",
       "    <tr>\n",
       "      <th>4</th>\n",
       "      <td>NJ - East</td>\n",
       "      <td>[[12.9293772293161, 77.5913562480048], [12.920...</td>\n",
       "      <td>(255, 232, 0)</td>\n",
       "    </tr>\n",
       "    <tr>\n",
       "      <th>5</th>\n",
       "      <td>NJ - North</td>\n",
       "      <td>[[12.9293772293161, 77.5913562480048], [12.945...</td>\n",
       "      <td>(255, 232, 0)</td>\n",
       "    </tr>\n",
       "  </tbody>\n",
       "</table>\n",
       "</div>"
      ],
      "text/plain": [
       "         name                                               path  \\\n",
       "0   AZ - West  [[12.9359658083896, 77.6113117509235], [12.914...   \n",
       "1  GA - North  [[12.9091751039833, 77.6005861284724], [12.945...   \n",
       "2  GA - South  [[12.9091751039833, 77.6005861284724], [12.892...   \n",
       "3   GA - West  [[12.9091751039833, 77.6005861284724], [12.914...   \n",
       "4   NJ - East  [[12.9293772293161, 77.5913562480048], [12.920...   \n",
       "5  NJ - North  [[12.9293772293161, 77.5913562480048], [12.945...   \n",
       "\n",
       "           color  \n",
       "0  (255, 232, 0)  \n",
       "1  (255, 232, 0)  \n",
       "2  (255, 232, 0)  \n",
       "3  (255, 232, 0)  \n",
       "4  (255, 232, 0)  \n",
       "5  (255, 232, 0)  "
      ]
     },
     "execution_count": 9,
     "metadata": {},
     "output_type": "execute_result"
    }
   ],
   "source": [
    "df_store = pd.read_excel(\"data/demand_and_supply.xlsx\", sheet_name=\"Store\")\n",
    "df_terminal = pd.read_excel(\"data/demand_and_supply.xlsx\", sheet_name=\"Terminal\")\n",
    "\n",
    "df_plan = pd.read_csv(\"data/demand_and_supply_plan.csv\")\n",
    "df_plan = df_plan[df_plan[\"supply plan\"] != 0]\n",
    "\n",
    "df = pd.merge(df_plan, df_store, on=\"store\", how=\"inner\")\n",
    "df = pd.merge(df, df_terminal, on=\"terminal\", how=\"inner\", suffixes=('_s', '_t'))\n",
    "\n",
    "df[\"name\"] = df[\"store\"] + \" - \" + df[\"terminal\"]\n",
    "df[\"path\"] = df.apply(lambda x: [[x[\"lat_s\"], x[\"lon_s\"]], [x[\"lat_t\"], x[\"lon_t\"]]], axis=1)\n",
    "# print(df)\n",
    "\n",
    "route_df = df[[\"name\", \"path\"]]\n",
    "route_df[\"color\"] = route_df.apply(lambda x: tuple(int(\"ffe800\"[i: i + 2], 16) for i in (0, 2, 4)), axis=1)\n",
    "\n",
    "route_df"
   ]
  },
  {
   "cell_type": "code",
   "execution_count": 10,
   "id": "dc509a78-961c-4b0a-9851-3ac4b3827e57",
   "metadata": {},
   "outputs": [],
   "source": [
    "def find_shortest_route(_path):\n",
    "    station_org_node_id = ox.distance.nearest_nodes(G, [_path[0][1]], [_path[0][0]])\n",
    "    station_dst_node_id = ox.distance.nearest_nodes(G, [_path[1][1]], [_path[1][0]])\n",
    "\n",
    "    paths = ox.shortest_path(G, station_org_node_id, station_dst_node_id, weight=\"travel_time\", cpus=None)\n",
    "\n",
    "    paths_latlng = [[(G.nodes[node][\"y\"], G.nodes[node][\"x\"]) for node in path] for path in paths]\n",
    "    return paths_latlng"
   ]
  },
  {
   "cell_type": "code",
   "execution_count": 11,
   "id": "40a17e16-e458-4a41-8bd6-4ad0d450d5d0",
   "metadata": {},
   "outputs": [
    {
     "name": "stderr",
     "output_type": "stream",
     "text": [
      "C:\\Users\\manyu\\AppData\\Local\\Temp\\ipykernel_7100\\3816485105.py:1: SettingWithCopyWarning: \n",
      "A value is trying to be set on a copy of a slice from a DataFrame.\n",
      "Try using .loc[row_indexer,col_indexer] = value instead\n",
      "\n",
      "See the caveats in the documentation: https://pandas.pydata.org/pandas-docs/stable/user_guide/indexing.html#returning-a-view-versus-a-copy\n",
      "  route_df[\"path\"] = route_df[\"path\"].apply(find_shortest_route)\n"
     ]
    }
   ],
   "source": [
    "route_df[\"path\"] = route_df[\"path\"].apply(find_shortest_route)\n",
    "route_df.to_json(\"data/optimal_routes.json\")"
   ]
  },
  {
   "cell_type": "code",
   "execution_count": 4,
   "id": "8ef09051-3ef7-4577-a217-81fe775a1c58",
   "metadata": {},
   "outputs": [
    {
     "data": {
      "text/plain": [
       "0    [[(13.1423666, 77.5806212)]]\n",
       "1    [[(13.1423666, 77.5806212)]]\n",
       "2    [[(13.1423666, 77.5806212)]]\n",
       "3    [[(13.1423666, 77.5806212)]]\n",
       "4    [[(13.1423666, 77.5806212)]]\n",
       "5    [[(13.1423666, 77.5806212)]]\n",
       "Name: path, dtype: object"
      ]
     },
     "execution_count": 4,
     "metadata": {},
     "output_type": "execute_result"
    }
   ],
   "source": [
    "route_df[\"path\"]"
   ]
  },
  {
   "cell_type": "code",
   "execution_count": 7,
   "id": "fec72d1d-0d7d-4cd4-8277-3c63e576e5a4",
   "metadata": {},
   "outputs": [
    {
     "data": {
      "text/plain": [
       "[[(12.9369075, 77.6110193),\n",
       "  (12.9344528, 77.6123562),\n",
       "  (12.9343686, 77.6123887),\n",
       "  (12.9324651, 77.6134413),\n",
       "  (12.9316547, 77.6138662),\n",
       "  (12.9313406, 77.6140453),\n",
       "  (12.9298694, 77.6149477),\n",
       "  (12.9295976, 77.6151403),\n",
       "  (12.9295314, 77.6151899),\n",
       "  (12.9295061, 77.6150797),\n",
       "  (12.9302495, 77.612799),\n",
       "  (12.9308676, 77.611721),\n",
       "  (12.9310592, 77.6104049),\n",
       "  (12.9311031, 77.6098614),\n",
       "  (12.9309168, 77.6098163),\n",
       "  (12.9309579, 77.6094364),\n",
       "  (12.9309594, 77.6093424),\n",
       "  (12.9309667, 77.609197),\n",
       "  (12.930973, 77.6090984),\n",
       "  (12.9309863, 77.6088067),\n",
       "  (12.9310569, 77.6082195),\n",
       "  (12.9307476, 77.608228),\n",
       "  (12.9306858, 77.6077072),\n",
       "  (12.9306779, 77.6075862),\n",
       "  (12.9306236, 77.6071885),\n",
       "  (12.9305686, 77.6067779),\n",
       "  (12.9303701, 77.6067889),\n",
       "  (12.9301084, 77.6067951),\n",
       "  (12.930092, 77.6067937),\n",
       "  (12.9298225, 77.6067625),\n",
       "  (12.9295845, 77.6066679),\n",
       "  (12.9293081, 77.6065659),\n",
       "  (12.9290878, 77.6065048),\n",
       "  (12.9284991, 77.6063671),\n",
       "  (12.9282449, 77.6063348),\n",
       "  (12.9279795, 77.6062921),\n",
       "  (12.9278809, 77.6062737),\n",
       "  (12.9280827, 77.6047018),\n",
       "  (12.928081, 77.6045998),\n",
       "  (12.9280733, 77.6041279),\n",
       "  (12.9280432, 77.6038152),\n",
       "  (12.9280146, 77.6035178),\n",
       "  (12.9280006, 77.6033727),\n",
       "  (12.9278544, 77.6030974),\n",
       "  (12.9277435, 77.6028749),\n",
       "  (12.927101, 77.6015851),\n",
       "  (12.9266936, 77.6010921),\n",
       "  (12.9266544, 77.6005177),\n",
       "  (12.9241579, 77.6003776),\n",
       "  (12.922724, 77.6002938),\n",
       "  (12.9224765, 77.6002827),\n",
       "  (12.9222664, 77.6002731),\n",
       "  (12.9215039, 77.6002366),\n",
       "  (12.9211978, 77.6002222),\n",
       "  (12.9208941, 77.6002074),\n",
       "  (12.9205798, 77.6001864),\n",
       "  (12.9200548, 77.6001583),\n",
       "  (12.9142047, 77.60004),\n",
       "  (12.9136628, 77.5999944),\n",
       "  (12.9117644, 77.6000324),\n",
       "  (12.910648, 77.6001409),\n",
       "  (12.9088191, 77.6003196),\n",
       "  (12.9089303, 77.6016443),\n",
       "  (12.9096128, 77.6014132),\n",
       "  (12.9094214, 77.6008636)]]"
      ]
     },
     "execution_count": 7,
     "metadata": {},
     "output_type": "execute_result"
    }
   ],
   "source": [
    "find_shortest_route([ [12.9359658083896, 77.6113117509235], [12.9091751039833, 77.6005861284724]])"
   ]
  },
  {
   "cell_type": "code",
   "execution_count": null,
   "id": "507d4879-2800-4836-91b5-70198cc4623e",
   "metadata": {},
   "outputs": [],
   "source": []
  }
 ],
 "metadata": {
  "kernelspec": {
   "display_name": "Python 3 (ipykernel)",
   "language": "python",
   "name": "python3"
  },
  "language_info": {
   "codemirror_mode": {
    "name": "ipython",
    "version": 3
   },
   "file_extension": ".py",
   "mimetype": "text/x-python",
   "name": "python",
   "nbconvert_exporter": "python",
   "pygments_lexer": "ipython3",
   "version": "3.10.4"
  }
 },
 "nbformat": 4,
 "nbformat_minor": 5
}
