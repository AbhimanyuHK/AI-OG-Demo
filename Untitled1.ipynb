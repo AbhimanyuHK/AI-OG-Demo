{
 "cells": [
  {
   "cell_type": "code",
   "execution_count": null,
   "id": "7d26cb4e-f05e-4238-91c5-7096bcd69c9f",
   "metadata": {},
   "outputs": [
    {
     "name": "stdout",
     "output_type": "stream",
     "text": [
      "Test set fraction: 0.5\n"
     ]
    },
    {
     "name": "stderr",
     "output_type": "stream",
     "text": [
      "C:\\Users\\manyu\\AppData\\Local\\Temp\\ipykernel_12584\\4076988409.py:46: UserWarning: Creating a tensor from a list of numpy.ndarrays is extremely slow. Please consider converting the list to a single numpy.ndarray with numpy.array() before converting to a tensor. (Triggered internally at ..\\torch\\csrc\\utils\\tensor_new.cpp:278.)\n",
      "  return torch.tensor(X).to(device), torch.tensor(y).to(device)\n"
     ]
    },
    {
     "name": "stdout",
     "output_type": "stream",
     "text": [
      "Epoch 0: train RMSE nan, test RMSE nan\n"
     ]
    }
   ],
   "source": [
    "import matplotlib.pyplot as plt\n",
    "\n",
    "import numpy as np\n",
    "import pandas as pd\n",
    "import torch\n",
    "import torch.nn as nn\n",
    "import torch.optim as optim\n",
    "import torch.utils.data as data\n",
    "from torch import Tensor\n",
    "\n",
    "device = 'cuda' if torch.cuda.is_available() else 'cpu'\n",
    "\n",
    "# df = pd.read_csv(\"data/demand.csv\", index_col=\"ID\")\n",
    "df = pd.read_csv(\"data/demand.csv\")\n",
    "df = df[[\"ID\", \"Store ID\", \"Units Sold\"]]\n",
    "df = df[:100]\n",
    "\n",
    "df = df.astype(float)\n",
    "\n",
    "target_sensor = \"Units Sold\"\n",
    "feature_cols = list(df.columns.difference([target_sensor]))\n",
    "\n",
    "forecast_lead = 1\n",
    "target = f\"{target_sensor}_lead_{forecast_lead}\"\n",
    "\n",
    "lt = []\n",
    "for x, y_df in df.groupby(feature_cols):\n",
    "    y_df[target] = y_df[target_sensor].shift(-forecast_lead, fill_value=y_df[target_sensor].mean())\n",
    "    lt.append(y_df)\n",
    "\n",
    "df2 = pd.concat(lt)\n",
    "lt = []\n",
    "\n",
    "def create_dataset_df(dataset, lookback):\n",
    "    \"\"\"Transform a time series into a prediction dataset\n",
    "\n",
    "    Args:\n",
    "        dataset: A numpy array of time series, first dimension is the time steps\n",
    "        lookback: Size of window for prediction\n",
    "    \"\"\"\n",
    "    X, y = [], []\n",
    "    for z, z_df in dataset.iterrows():\n",
    "        _feature, _target = z_df[feature_cols + [target_sensor]].values, z_df[[target]].values\n",
    "        X.append(_feature)\n",
    "        y.append(_target)\n",
    "    return torch.tensor(X).to(device), torch.tensor(y).to(device)\n",
    "\n",
    "\n",
    "test_start = df2.shape[0] // 2\n",
    "\n",
    "df_train = df2.iloc[:test_start].copy()\n",
    "df_test = df2.iloc[test_start:].copy()\n",
    "\n",
    "print(\"Test set fraction:\", len(df_test) / len(df))\n",
    "\n",
    "lookback = 1\n",
    "X_train, y_train = create_dataset_df(df_train, lookback=lookback)\n",
    "X_test, y_test = create_dataset_df(df_test, lookback=lookback)\n",
    "\n",
    "\n",
    "class OGModel(nn.Module):\n",
    "    def __init__(self):\n",
    "        super().__init__()\n",
    "        self.lstm = nn.LSTM(input_size=1, hidden_size=50, num_layers=1, batch_first=True)\n",
    "        self.linear = nn.Linear(50, 1)\n",
    "\n",
    "    def forward(self, x: Tensor):\n",
    "        # x.to()\n",
    "        # x = x.to(torch.float32)\n",
    "        # print(x)\n",
    "        x, _ = self.lstm(x)\n",
    "        # x = F.relu(x)\n",
    "        x = self.linear(x)\n",
    "        # print(x)\n",
    "        return x\n",
    "\n",
    "\n",
    "learning_rate = 5e-5\n",
    "\n",
    "model = OGModel()\n",
    "optimizer = optim.Adam(model.parameters(), lr=learning_rate)\n",
    "loss_fn = nn.MSELoss().to(device)\n",
    "loader = data.DataLoader(data.TensorDataset(X_train, y_train), shuffle=True, batch_size=2)\n",
    "\n",
    "n_epochs = 31\n",
    "for epoch in range(n_epochs):\n",
    "    model.train().to(device)\n",
    "    for X_batch, y_batch in loader:\n",
    "        X_batch = X_batch.to(torch.float32)\n",
    "        y_batch = y_batch.to(torch.float32)\n",
    "        # print(X_batch)\n",
    "        y_pred = model(X_batch).to(device)\n",
    "        loss = loss_fn(y_pred, y_batch).to(device)\n",
    "        optimizer.zero_grad()\n",
    "        loss.backward()\n",
    "        optimizer.step()\n",
    "    # Validation\n",
    "    if epoch % 10 != 0:\n",
    "        continue\n",
    "    model.eval()\n",
    "    with torch.no_grad():\n",
    "        y_pred = model(X_train.to(torch.float32)).to(device)\n",
    "        train_rmse = np.sqrt(loss_fn(y_pred, y_train)).to(device)\n",
    "        y_pred = model(X_test.to(torch.float32)).to(device)\n",
    "        test_rmse = np.sqrt(loss_fn(y_pred, y_test)).to(device)\n",
    "    print(\"Epoch %d: train RMSE %.4f, test RMSE %.4f\" % (epoch, train_rmse, test_rmse))\n"
   ]
  },
  {
   "cell_type": "code",
   "execution_count": null,
   "id": "81f57c69-9635-4239-8079-3b616b058e4f",
   "metadata": {},
   "outputs": [],
   "source": [
    "no_train = df2[\"Units Sold\"]"
   ]
  },
  {
   "cell_type": "code",
   "execution_count": 4,
   "id": "7c7f0c21-39ac-46a6-80c3-3cfddc39c7d0",
   "metadata": {},
   "outputs": [],
   "source": [
    "with torch.no_grad():\n",
    "    # shift train predictions for plotting\n",
    "    train_plot = np.ones_like(no_train) * np.nan\n",
    "    # print(train_plot)\n",
    "    # y_pred = model(X_train.to(torch.float32))\n",
    "    # print(y_pred)\n",
    "    # y_pred = y_pred[:, -1]\n",
    "    # print(y_pred)\n",
    "    train_plot[0:test_start] = model(X_train.to(torch.float32))[:, -1]\n",
    "    # shift test predictions for plotting\n",
    "    test_plot = np.ones_like(no_train) * np.nan\n",
    "    test_plot[test_start:len(no_train)] = model(X_test.to(torch.float32))[:, -1]\n"
   ]
  },
  {
   "cell_type": "code",
   "execution_count": 6,
   "id": "f7781448-cc09-48d1-9fd1-45717c1bf1fe",
   "metadata": {},
   "outputs": [
    {
     "data": {
      "text/plain": [
       "0      20.0\n",
       "1      28.0\n",
       "2      19.0\n",
       "3      44.0\n",
       "4      52.0\n",
       "      ...  \n",
       "95     82.0\n",
       "96     84.0\n",
       "97     51.0\n",
       "98     24.0\n",
       "99    173.0\n",
       "Name: Units Sold, Length: 100, dtype: float64"
      ]
     },
     "execution_count": 6,
     "metadata": {},
     "output_type": "execute_result"
    }
   ],
   "source": [
    "no_train"
   ]
  },
  {
   "cell_type": "code",
   "execution_count": 5,
   "id": "9086bf94-e332-4255-a394-aff35b078f0b",
   "metadata": {},
   "outputs": [
    {
     "data": {
      "text/plain": [
       "array([       nan,        nan,        nan,        nan,        nan,\n",
       "              nan,        nan,        nan,        nan,        nan,\n",
       "              nan,        nan,        nan,        nan,        nan,\n",
       "              nan,        nan,        nan,        nan,        nan,\n",
       "              nan,        nan,        nan,        nan,        nan,\n",
       "              nan,        nan,        nan,        nan,        nan,\n",
       "              nan,        nan,        nan,        nan,        nan,\n",
       "              nan,        nan,        nan,        nan,        nan,\n",
       "              nan,        nan,        nan,        nan,        nan,\n",
       "              nan,        nan,        nan,        nan,        nan,\n",
       "       0.19569401, 0.23517346, 0.24320343, 0.24537084, 0.2461793 ,\n",
       "       0.24655075, 0.24674009, 0.24684149, 0.24689718, 0.24692813,\n",
       "       0.24694549, 0.24695525, 0.24696073, 0.24696383, 0.24696557,\n",
       "       0.24696656, 0.24696715, 0.24696748, 0.24696764, 0.24696775,\n",
       "       0.24696778, 0.24696781, 0.24696782, 0.24696785, 0.24696784,\n",
       "       0.24696785, 0.24696785, 0.24696785, 0.24696785, 0.24696785,\n",
       "       0.24696785, 0.24696787, 0.24696785, 0.24696785, 0.24696785,\n",
       "       0.24696787, 0.24696785, 0.24696785, 0.24696787, 0.24696785,\n",
       "       0.24696791, 0.24696785, 0.24696785, 0.24696788, 0.24696785,\n",
       "       0.24696785, 0.24696785, 0.24696785, 0.24696788, 0.24696785])"
      ]
     },
     "execution_count": 5,
     "metadata": {},
     "output_type": "execute_result"
    }
   ],
   "source": [
    "test_plot"
   ]
  },
  {
   "cell_type": "code",
   "execution_count": 7,
   "id": "13117314-3454-42f6-80cb-410d105ea22c",
   "metadata": {},
   "outputs": [
    {
     "data": {
      "image/png": "[encoded data removed]",
      "text/plain": [
       "<Figure size 640x480 with 1 Axes>"
      ]
     },
     "metadata": {},
     "output_type": "display_data"
    }
   ],
   "source": [
    "# plot\n",
    "plt.plot(no_train, c='b')\n",
    "plt.plot(train_plot, c='r')\n",
    "plt.plot(test_plot, c='g')\n",
    "plt.show()"
   ]
  },
  {
   "cell_type": "code",
   "execution_count": 4,
   "id": "932ea0c2-2eb1-4df8-8fd1-735ffe53a6e6",
   "metadata": {},
   "outputs": [
    {
     "name": "stdout",
     "output_type": "stream",
     "text": [
      "            ID  Store ID  Units Sold\n",
      "0            1      8091          20\n",
      "1            2      8091          28\n",
      "2            3      8091          19\n",
      "3            4      8091          44\n",
      "4            5      8091          52\n",
      "...        ...       ...         ...\n",
      "150145  212638      9984          38\n",
      "150146  212639      9984          30\n",
      "150147  212642      9984          31\n",
      "150148  212643      9984          12\n",
      "150149  212644      9984          15\n",
      "\n",
      "[150150 rows x 3 columns]\n",
      "[[1.00000e+00 8.09100e+03 2.00000e+01]\n",
      " [2.00000e+00 8.09100e+03 2.80000e+01]\n",
      " [3.00000e+00 8.09100e+03 1.90000e+01]\n",
      " ...\n",
      " [2.12642e+05 9.98400e+03 3.10000e+01]\n",
      " [2.12643e+05 9.98400e+03 1.20000e+01]\n",
      " [2.12644e+05 9.98400e+03 1.50000e+01]]\n"
     ]
    }
   ],
   "source": [
    "import pandas as pd\n",
    "\n",
    "dataframe = pd.read_csv('data/demand.csv', usecols=[0, 1, 4], engine='python')\n",
    "print(dataframe)\n",
    "dataset = dataframe.values\n",
    "dataset = dataset.astype('float32')\n",
    "print(dataset)\n"
   ]
  },
  {
   "cell_type": "code",
   "execution_count": 5,
   "id": "16007eec-9e0d-4ece-89b2-2a98b914f267",
   "metadata": {},
   "outputs": [],
   "source": [
    "from sklearn.preprocessing import MinMaxScaler\n",
    "data = [[-1, 2], [-0.5, 6], [0, 10], [1, 18]]\n",
    "scaler = MinMaxScaler()"
   ]
  },
  {
   "cell_type": "code",
   "execution_count": 7,
   "id": "51cddd24-df38-4458-8221-d4c01bea8107",
   "metadata": {},
   "outputs": [
    {
     "name": "stdout",
     "output_type": "stream",
     "text": [
      "MinMaxScaler()\n"
     ]
    }
   ],
   "source": [
    "print(scaler.fit(data))\n"
   ]
  },
  {
   "cell_type": "code",
   "execution_count": 8,
   "id": "b7918364-ea22-421f-9803-59673d661232",
   "metadata": {},
   "outputs": [
    {
     "name": "stdout",
     "output_type": "stream",
     "text": [
      "[ 1. 18.]\n"
     ]
    }
   ],
   "source": [
    "print(scaler.data_max_)\n"
   ]
  },
  {
   "cell_type": "code",
   "execution_count": 9,
   "id": "e5117abe-c1aa-426b-ba61-43a9d52ecc09",
   "metadata": {},
   "outputs": [
    {
     "name": "stdout",
     "output_type": "stream",
     "text": [
      "[[0.   0.  ]\n",
      " [0.25 0.25]\n",
      " [0.5  0.5 ]\n",
      " [1.   1.  ]]\n"
     ]
    }
   ],
   "source": [
    "print(scaler.transform(data))"
   ]
  },
  {
   "cell_type": "code",
   "execution_count": 10,
   "id": "b97a4bd6-9002-4a04-9928-03123f11f69b",
   "metadata": {},
   "outputs": [
    {
     "name": "stdout",
     "output_type": "stream",
     "text": [
      "[[1.5 0. ]]\n"
     ]
    }
   ],
   "source": [
    "print(scaler.transform([[2, 2]]))"
   ]
  },
  {
   "cell_type": "code",
   "execution_count": 13,
   "id": "cb40b9d1-c234-4863-a979-ec5162511856",
   "metadata": {},
   "outputs": [
    {
     "data": {
      "text/plain": [
       "array([[2.     , 2.00016]])"
      ]
     },
     "execution_count": 13,
     "metadata": {},
     "output_type": "execute_result"
    }
   ],
   "source": [
    "scaler.inverse_transform([[1.5, 0.00001 ]])"
   ]
  },
  {
   "cell_type": "code",
   "execution_count": 14,
   "id": "7807b1d1-3cb2-47d0-b622-49a74b581021",
   "metadata": {},
   "outputs": [
    {
     "data": {
      "text/html": [
       "<div>\n",
       "<style scoped>\n",
       "    .dataframe tbody tr th:only-of-type {\n",
       "        vertical-align: middle;\n",
       "    }\n",
       "\n",
       "    .dataframe tbody tr th {\n",
       "        vertical-align: top;\n",
       "    }\n",
       "\n",
       "    .dataframe thead th {\n",
       "        text-align: right;\n",
       "    }\n",
       "</style>\n",
       "<table border=\"1\" class=\"dataframe\">\n",
       "  <thead>\n",
       "    <tr style=\"text-align: right;\">\n",
       "      <th></th>\n",
       "      <th>ID</th>\n",
       "      <th>Store ID</th>\n",
       "      <th>Units Sold</th>\n",
       "    </tr>\n",
       "  </thead>\n",
       "  <tbody>\n",
       "    <tr>\n",
       "      <th>0</th>\n",
       "      <td>1</td>\n",
       "      <td>8091</td>\n",
       "      <td>20</td>\n",
       "    </tr>\n",
       "    <tr>\n",
       "      <th>1</th>\n",
       "      <td>2</td>\n",
       "      <td>8091</td>\n",
       "      <td>28</td>\n",
       "    </tr>\n",
       "    <tr>\n",
       "      <th>2</th>\n",
       "      <td>3</td>\n",
       "      <td>8091</td>\n",
       "      <td>19</td>\n",
       "    </tr>\n",
       "    <tr>\n",
       "      <th>3</th>\n",
       "      <td>4</td>\n",
       "      <td>8091</td>\n",
       "      <td>44</td>\n",
       "    </tr>\n",
       "    <tr>\n",
       "      <th>4</th>\n",
       "      <td>5</td>\n",
       "      <td>8091</td>\n",
       "      <td>52</td>\n",
       "    </tr>\n",
       "  </tbody>\n",
       "</table>\n",
       "</div>"
      ],
      "text/plain": [
       "   ID  Store ID  Units Sold\n",
       "0   1      8091          20\n",
       "1   2      8091          28\n",
       "2   3      8091          19\n",
       "3   4      8091          44\n",
       "4   5      8091          52"
      ]
     },
     "execution_count": 14,
     "metadata": {},
     "output_type": "execute_result"
    }
   ],
   "source": [
    "import numpy as np\n",
    "dataframe = dataframe[:5]\n",
    "dataframe"
   ]
  },
  {
   "cell_type": "code",
   "execution_count": 28,
   "id": "cc90c587-fc67-449d-a204-2dc220ab79a8",
   "metadata": {},
   "outputs": [
    {
     "data": {
      "text/plain": [
       "array([[[0.        , 0.        , 0.02469136]],\n",
       "\n",
       "       [[0.        , 0.        , 0.02469136]],\n",
       "\n",
       "       [[0.        , 0.        , 0.02469136]]])"
      ]
     },
     "execution_count": 28,
     "metadata": {},
     "output_type": "execute_result"
    }
   ],
   "source": [
    "aa = np.array([ [ [0.  ,       0.  ,       0.02469136]],[ [0. ,        0.    ,     0.02469136]], [[0.  ,       0.  ,       0.02469136] ]])\n",
    "aa"
   ]
  },
  {
   "cell_type": "code",
   "execution_count": 29,
   "id": "7adf439b-5cb9-45f5-8d7b-c34f59901579",
   "metadata": {},
   "outputs": [
    {
     "data": {
      "text/plain": [
       "(3, 1, 3)"
      ]
     },
     "execution_count": 29,
     "metadata": {},
     "output_type": "execute_result"
    }
   ],
   "source": [
    "aa.shape"
   ]
  },
  {
   "cell_type": "code",
   "execution_count": 33,
   "id": "a10d7c71-9a9a-4d1f-afd5-8ee68b04d2d1",
   "metadata": {},
   "outputs": [
    {
     "data": {
      "text/plain": [
       "array([[[0.        ],\n",
       "        [0.        ],\n",
       "        [0.02469136]],\n",
       "\n",
       "       [[0.        ],\n",
       "        [0.        ],\n",
       "        [0.02469136]],\n",
       "\n",
       "       [[0.        ],\n",
       "        [0.        ],\n",
       "        [0.02469136]]])"
      ]
     },
     "execution_count": 33,
     "metadata": {},
     "output_type": "execute_result"
    }
   ],
   "source": [
    "np.reshape(aa, (aa.shape[0], 3, aa.shape[1]))"
   ]
  },
  {
   "cell_type": "code",
   "execution_count": 34,
   "id": "abf1618c-abee-4d39-8f4d-1cde696f2f13",
   "metadata": {},
   "outputs": [
    {
     "name": "stderr",
     "output_type": "stream",
     "text": [
      "<>:1: SyntaxWarning: list indices must be integers or slices, not float; perhaps you missed a comma?\n",
      "<>:5: SyntaxWarning: list indices must be integers or slices, not float; perhaps you missed a comma?\n",
      "<>:9: SyntaxWarning: list indices must be integers or slices, not float; perhaps you missed a comma?\n",
      "<>:13: SyntaxWarning: list indices must be integers or slices, not float; perhaps you missed a comma?\n",
      "<>:1: SyntaxWarning: list indices must be integers or slices, not float; perhaps you missed a comma?\n",
      "<>:5: SyntaxWarning: list indices must be integers or slices, not float; perhaps you missed a comma?\n",
      "<>:9: SyntaxWarning: list indices must be integers or slices, not float; perhaps you missed a comma?\n",
      "<>:13: SyntaxWarning: list indices must be integers or slices, not float; perhaps you missed a comma?\n",
      "C:\\Users\\manyu\\AppData\\Local\\Temp\\ipykernel_17304\\1663208673.py:1: SyntaxWarning: list indices must be integers or slices, not float; perhaps you missed a comma?\n",
      "  x = np.array([[[0.        ]\n",
      "C:\\Users\\manyu\\AppData\\Local\\Temp\\ipykernel_17304\\1663208673.py:5: SyntaxWarning: list indices must be integers or slices, not float; perhaps you missed a comma?\n",
      "  [[0.0625    ]\n",
      "C:\\Users\\manyu\\AppData\\Local\\Temp\\ipykernel_17304\\1663208673.py:9: SyntaxWarning: list indices must be integers or slices, not float; perhaps you missed a comma?\n",
      "  [[0.125     ]\n",
      "C:\\Users\\manyu\\AppData\\Local\\Temp\\ipykernel_17304\\1663208673.py:13: SyntaxWarning: list indices must be integers or slices, not float; perhaps you missed a comma?\n",
      "  [[0.1875    ]\n",
      "C:\\Users\\manyu\\AppData\\Local\\Temp\\ipykernel_17304\\1663208673.py:1: SyntaxWarning: list indices must be integers or slices, not float; perhaps you missed a comma?\n",
      "  x = np.array([[[0.        ]\n",
      "C:\\Users\\manyu\\AppData\\Local\\Temp\\ipykernel_17304\\1663208673.py:5: SyntaxWarning: list indices must be integers or slices, not float; perhaps you missed a comma?\n",
      "  [[0.0625    ]\n",
      "C:\\Users\\manyu\\AppData\\Local\\Temp\\ipykernel_17304\\1663208673.py:9: SyntaxWarning: list indices must be integers or slices, not float; perhaps you missed a comma?\n",
      "  [[0.125     ]\n",
      "C:\\Users\\manyu\\AppData\\Local\\Temp\\ipykernel_17304\\1663208673.py:13: SyntaxWarning: list indices must be integers or slices, not float; perhaps you missed a comma?\n",
      "  [[0.1875    ]\n",
      "C:\\Users\\manyu\\AppData\\Local\\Temp\\ipykernel_17304\\1663208673.py:1: SyntaxWarning: list indices must be integers or slices, not float; perhaps you missed a comma?\n",
      "  x = np.array([[[0.        ]\n",
      "C:\\Users\\manyu\\AppData\\Local\\Temp\\ipykernel_17304\\1663208673.py:5: SyntaxWarning: list indices must be integers or slices, not float; perhaps you missed a comma?\n",
      "  [[0.0625    ]\n",
      "C:\\Users\\manyu\\AppData\\Local\\Temp\\ipykernel_17304\\1663208673.py:9: SyntaxWarning: list indices must be integers or slices, not float; perhaps you missed a comma?\n",
      "  [[0.125     ]\n",
      "C:\\Users\\manyu\\AppData\\Local\\Temp\\ipykernel_17304\\1663208673.py:13: SyntaxWarning: list indices must be integers or slices, not float; perhaps you missed a comma?\n",
      "  [[0.1875    ]\n",
      "C:\\Users\\manyu\\AppData\\Local\\Temp\\ipykernel_17304\\1663208673.py:1: SyntaxWarning: list indices must be integers or slices, not float; perhaps you missed a comma?\n",
      "  x = np.array([[[0.        ]\n",
      "C:\\Users\\manyu\\AppData\\Local\\Temp\\ipykernel_17304\\1663208673.py:5: SyntaxWarning: list indices must be integers or slices, not float; perhaps you missed a comma?\n",
      "  [[0.0625    ]\n",
      "C:\\Users\\manyu\\AppData\\Local\\Temp\\ipykernel_17304\\1663208673.py:9: SyntaxWarning: list indices must be integers or slices, not float; perhaps you missed a comma?\n",
      "  [[0.125     ]\n",
      "C:\\Users\\manyu\\AppData\\Local\\Temp\\ipykernel_17304\\1663208673.py:13: SyntaxWarning: list indices must be integers or slices, not float; perhaps you missed a comma?\n",
      "  [[0.1875    ]\n",
      "C:\\Users\\manyu\\AppData\\Local\\Temp\\ipykernel_17304\\1663208673.py:1: SyntaxWarning: list indices must be integers or slices, not float; perhaps you missed a comma?\n",
      "  x = np.array([[[0.        ]\n",
      "C:\\Users\\manyu\\AppData\\Local\\Temp\\ipykernel_17304\\1663208673.py:5: SyntaxWarning: list indices must be integers or slices, not float; perhaps you missed a comma?\n",
      "  [[0.0625    ]\n",
      "C:\\Users\\manyu\\AppData\\Local\\Temp\\ipykernel_17304\\1663208673.py:9: SyntaxWarning: list indices must be integers or slices, not float; perhaps you missed a comma?\n",
      "  [[0.125     ]\n",
      "C:\\Users\\manyu\\AppData\\Local\\Temp\\ipykernel_17304\\1663208673.py:13: SyntaxWarning: list indices must be integers or slices, not float; perhaps you missed a comma?\n",
      "  [[0.1875    ]\n",
      "C:\\Users\\manyu\\AppData\\Local\\Temp\\ipykernel_17304\\1663208673.py:1: SyntaxWarning: list indices must be integers or slices, not float; perhaps you missed a comma?\n",
      "  x = np.array([[[0.        ]\n",
      "C:\\Users\\manyu\\AppData\\Local\\Temp\\ipykernel_17304\\1663208673.py:5: SyntaxWarning: list indices must be integers or slices, not float; perhaps you missed a comma?\n",
      "  [[0.0625    ]\n",
      "C:\\Users\\manyu\\AppData\\Local\\Temp\\ipykernel_17304\\1663208673.py:9: SyntaxWarning: list indices must be integers or slices, not float; perhaps you missed a comma?\n",
      "  [[0.125     ]\n",
      "C:\\Users\\manyu\\AppData\\Local\\Temp\\ipykernel_17304\\1663208673.py:13: SyntaxWarning: list indices must be integers or slices, not float; perhaps you missed a comma?\n",
      "  [[0.1875    ]\n",
      "C:\\Users\\manyu\\AppData\\Local\\Temp\\ipykernel_17304\\1663208673.py:1: SyntaxWarning: list indices must be integers or slices, not float; perhaps you missed a comma?\n",
      "  x = np.array([[[0.        ]\n",
      "C:\\Users\\manyu\\AppData\\Local\\Temp\\ipykernel_17304\\1663208673.py:5: SyntaxWarning: list indices must be integers or slices, not float; perhaps you missed a comma?\n",
      "  [[0.0625    ]\n",
      "C:\\Users\\manyu\\AppData\\Local\\Temp\\ipykernel_17304\\1663208673.py:9: SyntaxWarning: list indices must be integers or slices, not float; perhaps you missed a comma?\n",
      "  [[0.125     ]\n",
      "C:\\Users\\manyu\\AppData\\Local\\Temp\\ipykernel_17304\\1663208673.py:13: SyntaxWarning: list indices must be integers or slices, not float; perhaps you missed a comma?\n",
      "  [[0.1875    ]\n",
      "C:\\Users\\manyu\\AppData\\Local\\Temp\\ipykernel_17304\\1663208673.py:1: SyntaxWarning: list indices must be integers or slices, not float; perhaps you missed a comma?\n",
      "  x = np.array([[[0.        ]\n",
      "C:\\Users\\manyu\\AppData\\Local\\Temp\\ipykernel_17304\\1663208673.py:5: SyntaxWarning: list indices must be integers or slices, not float; perhaps you missed a comma?\n",
      "  [[0.0625    ]\n",
      "C:\\Users\\manyu\\AppData\\Local\\Temp\\ipykernel_17304\\1663208673.py:9: SyntaxWarning: list indices must be integers or slices, not float; perhaps you missed a comma?\n",
      "  [[0.125     ]\n",
      "C:\\Users\\manyu\\AppData\\Local\\Temp\\ipykernel_17304\\1663208673.py:13: SyntaxWarning: list indices must be integers or slices, not float; perhaps you missed a comma?\n",
      "  [[0.1875    ]\n",
      "C:\\Users\\manyu\\AppData\\Local\\Temp\\ipykernel_17304\\1663208673.py:1: SyntaxWarning: list indices must be integers or slices, not float; perhaps you missed a comma?\n",
      "  x = np.array([[[0.        ]\n",
      "C:\\Users\\manyu\\AppData\\Local\\Temp\\ipykernel_17304\\1663208673.py:5: SyntaxWarning: list indices must be integers or slices, not float; perhaps you missed a comma?\n",
      "  [[0.0625    ]\n",
      "C:\\Users\\manyu\\AppData\\Local\\Temp\\ipykernel_17304\\1663208673.py:9: SyntaxWarning: list indices must be integers or slices, not float; perhaps you missed a comma?\n",
      "  [[0.125     ]\n",
      "C:\\Users\\manyu\\AppData\\Local\\Temp\\ipykernel_17304\\1663208673.py:13: SyntaxWarning: list indices must be integers or slices, not float; perhaps you missed a comma?\n",
      "  [[0.1875    ]\n",
      "C:\\Users\\manyu\\AppData\\Local\\Temp\\ipykernel_17304\\1663208673.py:1: SyntaxWarning: list indices must be integers or slices, not float; perhaps you missed a comma?\n",
      "  x = np.array([[[0.        ]\n",
      "C:\\Users\\manyu\\AppData\\Local\\Temp\\ipykernel_17304\\1663208673.py:5: SyntaxWarning: list indices must be integers or slices, not float; perhaps you missed a comma?\n",
      "  [[0.0625    ]\n",
      "C:\\Users\\manyu\\AppData\\Local\\Temp\\ipykernel_17304\\1663208673.py:9: SyntaxWarning: list indices must be integers or slices, not float; perhaps you missed a comma?\n",
      "  [[0.125     ]\n",
      "C:\\Users\\manyu\\AppData\\Local\\Temp\\ipykernel_17304\\1663208673.py:13: SyntaxWarning: list indices must be integers or slices, not float; perhaps you missed a comma?\n",
      "  [[0.1875    ]\n",
      "C:\\Users\\manyu\\AppData\\Local\\Temp\\ipykernel_17304\\1663208673.py:1: SyntaxWarning: list indices must be integers or slices, not float; perhaps you missed a comma?\n",
      "  x = np.array([[[0.        ]\n",
      "C:\\Users\\manyu\\AppData\\Local\\Temp\\ipykernel_17304\\1663208673.py:5: SyntaxWarning: list indices must be integers or slices, not float; perhaps you missed a comma?\n",
      "  [[0.0625    ]\n",
      "C:\\Users\\manyu\\AppData\\Local\\Temp\\ipykernel_17304\\1663208673.py:9: SyntaxWarning: list indices must be integers or slices, not float; perhaps you missed a comma?\n",
      "  [[0.125     ]\n",
      "C:\\Users\\manyu\\AppData\\Local\\Temp\\ipykernel_17304\\1663208673.py:13: SyntaxWarning: list indices must be integers or slices, not float; perhaps you missed a comma?\n",
      "  [[0.1875    ]\n",
      "C:\\Users\\manyu\\AppData\\Local\\Temp\\ipykernel_17304\\1663208673.py:1: SyntaxWarning: list indices must be integers or slices, not float; perhaps you missed a comma?\n",
      "  x = np.array([[[0.        ]\n",
      "C:\\Users\\manyu\\AppData\\Local\\Temp\\ipykernel_17304\\1663208673.py:5: SyntaxWarning: list indices must be integers or slices, not float; perhaps you missed a comma?\n",
      "  [[0.0625    ]\n",
      "C:\\Users\\manyu\\AppData\\Local\\Temp\\ipykernel_17304\\1663208673.py:9: SyntaxWarning: list indices must be integers or slices, not float; perhaps you missed a comma?\n",
      "  [[0.125     ]\n",
      "C:\\Users\\manyu\\AppData\\Local\\Temp\\ipykernel_17304\\1663208673.py:13: SyntaxWarning: list indices must be integers or slices, not float; perhaps you missed a comma?\n",
      "  [[0.1875    ]\n",
      "C:\\Users\\manyu\\AppData\\Local\\Temp\\ipykernel_17304\\1663208673.py:1: SyntaxWarning: list indices must be integers or slices, not float; perhaps you missed a comma?\n",
      "  x = np.array([[[0.        ]\n",
      "C:\\Users\\manyu\\AppData\\Local\\Temp\\ipykernel_17304\\1663208673.py:5: SyntaxWarning: list indices must be integers or slices, not float; perhaps you missed a comma?\n",
      "  [[0.0625    ]\n",
      "C:\\Users\\manyu\\AppData\\Local\\Temp\\ipykernel_17304\\1663208673.py:9: SyntaxWarning: list indices must be integers or slices, not float; perhaps you missed a comma?\n",
      "  [[0.125     ]\n",
      "C:\\Users\\manyu\\AppData\\Local\\Temp\\ipykernel_17304\\1663208673.py:13: SyntaxWarning: list indices must be integers or slices, not float; perhaps you missed a comma?\n",
      "  [[0.1875    ]\n"
     ]
    },
    {
     "ename": "TypeError",
     "evalue": "list indices must be integers or slices, not float",
     "output_type": "error",
     "traceback": [
      "\u001b[1;31m---------------------------------------------------------------------------\u001b[0m",
      "\u001b[1;31mTypeError\u001b[0m                                 Traceback (most recent call last)",
      "Cell \u001b[1;32mIn[34], line 1\u001b[0m\n\u001b[1;32m----> 1\u001b[0m x \u001b[38;5;241m=\u001b[39m np\u001b[38;5;241m.\u001b[39marray([[\u001b[43m[\u001b[49m\u001b[38;5;241;43m0.\u001b[39;49m\u001b[43m        \u001b[49m\u001b[43m]\u001b[49m\n\u001b[0;32m      2\u001b[0m \u001b[43m  \u001b[49m\u001b[43m[\u001b[49m\u001b[38;5;241;43m0.\u001b[39;49m\u001b[43m        \u001b[49m\u001b[43m]\u001b[49m\n\u001b[0;32m      3\u001b[0m   [\u001b[38;5;241m0.02469136\u001b[39m]]\n\u001b[0;32m      4\u001b[0m \n\u001b[0;32m      5\u001b[0m  [[\u001b[38;5;241m0.0625\u001b[39m    ]\n\u001b[0;32m      6\u001b[0m   [\u001b[38;5;241m0.\u001b[39m        ]\n\u001b[0;32m      7\u001b[0m   [\u001b[38;5;241m0.12345679\u001b[39m]]\n\u001b[0;32m      8\u001b[0m \n\u001b[0;32m      9\u001b[0m  [[\u001b[38;5;241m0.125\u001b[39m     ]\n\u001b[0;32m     10\u001b[0m   [\u001b[38;5;241m0.\u001b[39m        ]\n\u001b[0;32m     11\u001b[0m   [\u001b[38;5;241m0.01234569\u001b[39m]]\n\u001b[0;32m     12\u001b[0m \n\u001b[0;32m     13\u001b[0m  [[\u001b[38;5;241m0.1875\u001b[39m    ]\n\u001b[0;32m     14\u001b[0m   [\u001b[38;5;241m0.\u001b[39m        ]\n\u001b[0;32m     15\u001b[0m   [\u001b[38;5;241m0.3209877\u001b[39m ]]])\n\u001b[0;32m     16\u001b[0m x\n",
      "\u001b[1;31mTypeError\u001b[0m: list indices must be integers or slices, not float"
     ]
    }
   ],
   "source": [
    "x = np.array([[[0.        ]\n",
    "  [0.        ]\n",
    "  [0.02469136]]\n",
    "\n",
    " [[0.0625    ]\n",
    "  [0.        ]\n",
    "  [0.12345679]]\n",
    "\n",
    " [[0.125     ]\n",
    "  [0.        ]\n",
    "  [0.01234569]]\n",
    "\n",
    " [[0.1875    ]\n",
    "  [0.        ]\n",
    "  [0.3209877 ]]]\n",
    "            )\n",
    "x"
   ]
  },
  {
   "cell_type": "code",
   "execution_count": 84,
   "id": "c4f67aec-c57d-4485-9640-8c2d5009cf14",
   "metadata": {
    "scrolled": true
   },
   "outputs": [
    {
     "name": "stdout",
     "output_type": "stream",
     "text": [
      "   ID  Store ID  Units Sold\n",
      "0   1      8091          20\n",
      "1   2      8091          28\n",
      "2   3      8091          19\n",
      "3   4      8091          44\n",
      "4   5      8091          52\n",
      "5   9      8091          18\n",
      "6  10      8091          47\n",
      "7  13      8091          50\n",
      "8  14      8091          82\n",
      "9  17      8095          99\n",
      "[[0.         0.         0.02469136]\n",
      " [0.0625     0.         0.12345679]\n",
      " [0.125      0.         0.01234569]\n",
      " [0.1875     0.         0.3209877 ]\n",
      " [0.25       0.         0.41975307]\n",
      " [0.5        0.         0.        ]\n",
      " [0.5625     0.         0.35802472]\n",
      " [0.75       0.         0.39506173]\n",
      " [0.8125     0.         0.79012346]\n",
      " [1.         1.         1.        ]]\n",
      "Epoch 1/10\n"
     ]
    },
    {
     "name": "stderr",
     "output_type": "stream",
     "text": [
      "C:\\Users\\manyu\\MyStack\\AI-OG-Demo\\venv\\lib\\site-packages\\keras\\src\\layers\\rnn\\rnn.py:205: UserWarning: Do not pass an `input_shape`/`input_dim` argument to a layer. When using Sequential models, prefer using an `Input(shape)` object as the first layer in the model instead.\n",
      "  super().__init__(**kwargs)\n"
     ]
    },
    {
     "name": "stdout",
     "output_type": "stream",
     "text": [
      "4/4 - 1s - 363ms/step - loss: 0.0712\n",
      "Epoch 2/10\n",
      "4/4 - 0s - 10ms/step - loss: 0.0678\n",
      "Epoch 3/10\n",
      "4/4 - 0s - 10ms/step - loss: 0.0645\n",
      "Epoch 4/10\n",
      "4/4 - 0s - 8ms/step - loss: 0.0613\n",
      "Epoch 5/10\n",
      "4/4 - 0s - 10ms/step - loss: 0.0582\n",
      "Epoch 6/10\n",
      "4/4 - 0s - 8ms/step - loss: 0.0554\n",
      "Epoch 7/10\n",
      "4/4 - 0s - 12ms/step - loss: 0.0527\n",
      "Epoch 8/10\n",
      "4/4 - 0s - 8ms/step - loss: 0.0502\n",
      "Epoch 9/10\n",
      "4/4 - 0s - 12ms/step - loss: 0.0478\n",
      "Epoch 10/10\n",
      "4/4 - 0s - 12ms/step - loss: 0.0456\n",
      "\u001b[1m1/1\u001b[0m \u001b[32m━━━━━━━━━━━━━━━━━━━━\u001b[0m\u001b[37m\u001b[0m \u001b[1m0s\u001b[0m 246ms/step\n",
      "\u001b[1m1/1\u001b[0m \u001b[32m━━━━━━━━━━━━━━━━━━━━\u001b[0m\u001b[37m\u001b[0m \u001b[1m0s\u001b[0m 250ms/step\n",
      "(4, 3, 1) (4, 1)\n"
     ]
    }
   ],
   "source": [
    "# LSTM for international airline passengers problem with regression framing\n",
    "\n",
    "import matplotlib.pyplot as plt\n",
    "import numpy as np\n",
    "import pandas as pd\n",
    "import tensorflow as tf\n",
    "from pandas import read_csv\n",
    "from sklearn.metrics import mean_squared_error\n",
    "from sklearn.preprocessing import MinMaxScaler\n",
    "from tensorflow.keras.layers import Dense\n",
    "from tensorflow.keras.layers import LSTM\n",
    "from tensorflow.keras.models import Sequential\n",
    "\n",
    "\n",
    "# convert an array of values into a dataset matrix\n",
    "def create_dataset(_dataset, _look_back=1):\n",
    "    dataX, dataY = [], []\n",
    "    for i in range(len(_dataset) - _look_back - 1):\n",
    "        # print(_dataset[i:(i + _look_back)])\n",
    "        a = _dataset[i:(i + _look_back)]\n",
    "        b = _dataset[i + _look_back, 2]\n",
    "        # print(a)\n",
    "        # print(b)\n",
    "        dataX.append(a)\n",
    "        dataY.append(b)\n",
    "        # print()\n",
    "    return np.array(dataX), np.array(dataY)\n",
    "\n",
    "\n",
    "# fix random seed for reproducibility\n",
    "tf.random.set_seed(7)\n",
    "# load the dataset\n",
    "dataframe = read_csv('data/demand.csv', usecols=[0, 1, 4], engine='python')\n",
    "dataframe = dataframe[:10]\n",
    "print(dataframe)\n",
    "dataset = dataframe.values\n",
    "dataset = dataset.astype('float32')\n",
    "\n",
    "# normalize the dataset\n",
    "scaler = MinMaxScaler(feature_range=(0, 1))\n",
    "dataset = scaler.fit_transform(dataset)\n",
    "print(dataset)\n",
    "\n",
    "# split into train and test sets\n",
    "train_size = int(len(dataset) * 0.67)\n",
    "test_size = len(dataset) - train_size\n",
    "train, test = dataset[0:train_size, :], dataset[train_size:len(dataset), :]\n",
    "\n",
    "# reshape into X=t and Y=t+1\n",
    "look_back = 1\n",
    "trainX, trainY = create_dataset(train, look_back)\n",
    "testX, testY = create_dataset(test, look_back)\n",
    "\n",
    "# reshape input to be [samples, time steps, features]\n",
    "trainX = np.reshape(trainX, (trainX.shape[0], 3, trainX.shape[1]))\n",
    "testX = np.reshape(testX, (testX.shape[0], 3, testX.shape[1]))\n",
    "\n",
    "# create and fit the LSTM network\n",
    "model = Sequential()\n",
    "model.add(LSTM(4, input_shape=(1, look_back)))\n",
    "model.add(Dense(1))\n",
    "model.compile(loss='mean_squared_error', optimizer='adam')\n",
    "model.fit([trainX], trainY, epochs=10, batch_size=1, verbose=2)\n",
    "\n",
    "# make predictions\n",
    "_trainPredict = model.predict(trainX)\n",
    "_testPredict = model.predict(testX)\n",
    "print(trainX.shape, _trainPredict.shape)\n",
    "\n",
    "\n",
    "# print(trainX)\n",
    "# print(trainPredict)\n",
    "\n",
    "def _inverse_transform_predict_(test_data, predict_data=np.array([]), test_y_data=np.array([])):\n",
    "    x_predict = test_data.copy()\n",
    "    if np.any(predict_data):\n",
    "        x_predict[:, 2] = predict_data\n",
    "    if np.any(test_y_data):\n",
    "        x_predict[:, 2] = test_y_data.reshape(test_y_data.shape[0], 1)\n",
    "\n",
    "    return x_predict.reshape((x_predict.shape[0] * x_predict.shape[2]), x_predict.shape[1])\n",
    "\n",
    "\n",
    "# trainPredict = trainX.copy()\n",
    "# trainPredict[:, 2] = _trainPredict\n",
    "# trainPredict = trainPredict.reshape((trainPredict.shape[0] * trainPredict.shape[2]), trainPredict.shape[1])\n",
    "#\n",
    "# testPredict = testX.copy()\n",
    "# testPredict[:, 2] = _testPredict\n",
    "\n",
    "# invert predictions\n",
    "trainPredict = scaler.inverse_transform(_inverse_transform_predict_(trainX, predict_data=_trainPredict))\n",
    "trainY = scaler.inverse_transform(_inverse_transform_predict_(trainX, test_y_data=trainY))\n",
    "testPredict = scaler.inverse_transform(_inverse_transform_predict_(testX, predict_data=_testPredict))\n",
    "testY = scaler.inverse_transform(_inverse_transform_predict_(testX, test_y_data=testY))\n"
   ]
  },
  {
   "cell_type": "code",
   "execution_count": 69,
   "id": "3142a30f-20be-4e77-902a-aa4041196066",
   "metadata": {},
   "outputs": [
    {
     "data": {
      "text/plain": [
       "array([[[0.        ],\n",
       "        [0.        ],\n",
       "        [0.02469136]],\n",
       "\n",
       "       [[0.0625    ],\n",
       "        [0.        ],\n",
       "        [0.12345679]],\n",
       "\n",
       "       [[0.125     ],\n",
       "        [0.        ],\n",
       "        [0.01234569]],\n",
       "\n",
       "       [[0.1875    ],\n",
       "        [0.        ],\n",
       "        [0.3209877 ]]], dtype=float32)"
      ]
     },
     "execution_count": 69,
     "metadata": {},
     "output_type": "execute_result"
    }
   ],
   "source": [
    "trainX"
   ]
  },
  {
   "cell_type": "code",
   "execution_count": 58,
   "id": "ea5cb3ee-9ec4-4f0a-a775-1bf4b0c1b7cc",
   "metadata": {},
   "outputs": [
    {
     "data": {
      "text/plain": [
       "array([[[0.        ],\n",
       "        [0.        ],\n",
       "        [0.06765497]],\n",
       "\n",
       "       [[0.0625    ],\n",
       "        [0.        ],\n",
       "        [0.08270393]],\n",
       "\n",
       "       [[0.125     ],\n",
       "        [0.        ],\n",
       "        [0.07457193]],\n",
       "\n",
       "       [[0.1875    ],\n",
       "        [0.        ],\n",
       "        [0.11097933]]], dtype=float32)"
      ]
     },
     "execution_count": 58,
     "metadata": {},
     "output_type": "execute_result"
    }
   ],
   "source": [
    "trainX[:, 2] = trainPredict\n",
    "trainX"
   ]
  },
  {
   "cell_type": "code",
   "execution_count": 70,
   "id": "7c8ea431-a216-4c78-8313-86f598986496",
   "metadata": {},
   "outputs": [
    {
     "data": {
      "text/plain": [
       "(4, 3, 1)"
      ]
     },
     "execution_count": 70,
     "metadata": {},
     "output_type": "execute_result"
    }
   ],
   "source": [
    "trainX.shape"
   ]
  },
  {
   "cell_type": "code",
   "execution_count": 71,
   "id": "a06f4c81-1c2a-44df-9aeb-141bf323688a",
   "metadata": {},
   "outputs": [
    {
     "data": {
      "text/plain": [
       "array([[0.        , 0.        , 0.02469136],\n",
       "       [0.0625    , 0.        , 0.12345679],\n",
       "       [0.125     , 0.        , 0.01234569],\n",
       "       [0.1875    , 0.        , 0.3209877 ]], dtype=float32)"
      ]
     },
     "execution_count": 71,
     "metadata": {},
     "output_type": "execute_result"
    }
   ],
   "source": [
    "trainX.reshape((trainX.shape[0]*trainX.shape[2]), trainX.shape[1])"
   ]
  },
  {
   "cell_type": "code",
   "execution_count": 72,
   "id": "6dbb8170-9078-4376-ad46-552fa422e421",
   "metadata": {},
   "outputs": [
    {
     "data": {
      "text/plain": [
       "array([[0.06765497],\n",
       "       [0.08270393],\n",
       "       [0.07457193],\n",
       "       [0.11097933]], dtype=float32)"
      ]
     },
     "execution_count": 72,
     "metadata": {},
     "output_type": "execute_result"
    }
   ],
   "source": [
    "trainPredict"
   ]
  },
  {
   "cell_type": "code",
   "execution_count": 51,
   "id": "cf7ab2d1-0f2c-430e-b0c9-34faf8b4cda3",
   "metadata": {},
   "outputs": [
    {
     "ename": "ValueError",
     "evalue": "all the input arrays must have same number of dimensions, but the array at index 0 has 3 dimension(s) and the array at index 1 has 2 dimension(s)",
     "output_type": "error",
     "traceback": [
      "\u001b[1;31m---------------------------------------------------------------------------\u001b[0m",
      "\u001b[1;31mValueError\u001b[0m                                Traceback (most recent call last)",
      "Cell \u001b[1;32mIn[51], line 1\u001b[0m\n\u001b[1;32m----> 1\u001b[0m \u001b[43mnp\u001b[49m\u001b[38;5;241;43m.\u001b[39;49m\u001b[43mconcatenate\u001b[49m\u001b[43m(\u001b[49m\u001b[43m[\u001b[49m\u001b[43mtrainX\u001b[49m\u001b[43m[\u001b[49m\u001b[43m:\u001b[49m\u001b[43m,\u001b[49m\u001b[43m \u001b[49m\u001b[43m:\u001b[49m\u001b[38;5;241;43m-\u001b[39;49m\u001b[38;5;241;43m1\u001b[39;49m\u001b[43m,\u001b[49m\u001b[43m]\u001b[49m\u001b[43m,\u001b[49m\u001b[43m \u001b[49m\u001b[43mtrainPredict\u001b[49m\u001b[43m]\u001b[49m\u001b[43m,\u001b[49m\u001b[43m \u001b[49m\u001b[43maxis\u001b[49m\u001b[38;5;241;43m=\u001b[39;49m\u001b[38;5;241;43m1\u001b[39;49m\u001b[43m)\u001b[49m\n",
      "\u001b[1;31mValueError\u001b[0m: all the input arrays must have same number of dimensions, but the array at index 0 has 3 dimension(s) and the array at index 1 has 2 dimension(s)"
     ]
    }
   ],
   "source": [
    "np.concatenate([trainX[:, :-1], trainPredict], axis=1)"
   ]
  },
  {
   "cell_type": "code",
   "execution_count": 73,
   "id": "05ebd191-b875-415d-b623-37a5927f99e7",
   "metadata": {},
   "outputs": [
    {
     "data": {
      "text/plain": [
       "array([0.12345679, 0.01234569, 0.3209877 , 0.41975307], dtype=float32)"
      ]
     },
     "execution_count": 73,
     "metadata": {},
     "output_type": "execute_result"
    }
   ],
   "source": [
    "trainY"
   ]
  },
  {
   "cell_type": "code",
   "execution_count": 74,
   "id": "676352c0-ab36-4d88-bf4f-cdaa36acf3f2",
   "metadata": {},
   "outputs": [
    {
     "data": {
      "text/plain": [
       "(4,)"
      ]
     },
     "execution_count": 74,
     "metadata": {},
     "output_type": "execute_result"
    }
   ],
   "source": [
    "trainY.shape"
   ]
  },
  {
   "cell_type": "code",
   "execution_count": 75,
   "id": "74611bbb-c1c8-4e59-8c0c-7907d321d4aa",
   "metadata": {},
   "outputs": [
    {
     "data": {
      "text/plain": [
       "array([[[0.        ],\n",
       "        [0.        ],\n",
       "        [0.02469136]],\n",
       "\n",
       "       [[0.0625    ],\n",
       "        [0.        ],\n",
       "        [0.12345679]],\n",
       "\n",
       "       [[0.125     ],\n",
       "        [0.        ],\n",
       "        [0.01234569]],\n",
       "\n",
       "       [[0.1875    ],\n",
       "        [0.        ],\n",
       "        [0.3209877 ]]], dtype=float32)"
      ]
     },
     "execution_count": 75,
     "metadata": {},
     "output_type": "execute_result"
    }
   ],
   "source": [
    "c_trainX = trainX.copy()\n",
    "c_trainX"
   ]
  },
  {
   "cell_type": "code",
   "execution_count": 81,
   "id": "4a5cc8c0-2ff9-4eca-aa3d-0a4b71485538",
   "metadata": {},
   "outputs": [
    {
     "data": {
      "text/plain": [
       "array([[0.12345679],\n",
       "       [0.01234569],\n",
       "       [0.3209877 ],\n",
       "       [0.41975307]], dtype=float32)"
      ]
     },
     "execution_count": 81,
     "metadata": {},
     "output_type": "execute_result"
    }
   ],
   "source": [
    "trainY.reshape(trainY.shape[0], 1)"
   ]
  },
  {
   "cell_type": "code",
   "execution_count": 77,
   "id": "12e33702-3aa3-4039-8fde-855ae25cd3f5",
   "metadata": {},
   "outputs": [
    {
     "ename": "ValueError",
     "evalue": "could not broadcast input array from shape (1,4) into shape (4,1)",
     "output_type": "error",
     "traceback": [
      "\u001b[1;31m---------------------------------------------------------------------------\u001b[0m",
      "\u001b[1;31mValueError\u001b[0m                                Traceback (most recent call last)",
      "Cell \u001b[1;32mIn[77], line 1\u001b[0m\n\u001b[1;32m----> 1\u001b[0m \u001b[43mc_trainX\u001b[49m\u001b[43m[\u001b[49m\u001b[43m:\u001b[49m\u001b[43m,\u001b[49m\u001b[43m \u001b[49m\u001b[38;5;241;43m2\u001b[39;49m\u001b[43m]\u001b[49m \u001b[38;5;241m=\u001b[39m [trainY]\n\u001b[0;32m      2\u001b[0m c_trainX\n",
      "\u001b[1;31mValueError\u001b[0m: could not broadcast input array from shape (1,4) into shape (4,1)"
     ]
    }
   ],
   "source": [
    "c_trainX[:, 2] = [trainY]\n",
    "c_trainX"
   ]
  },
  {
   "cell_type": "code",
   "execution_count": 67,
   "id": "e19d679b-c8e1-4b15-afc1-17cd9da98ca0",
   "metadata": {},
   "outputs": [
    {
     "data": {
      "text/plain": [
       "array([[[0.12345679],\n",
       "        [0.01234569],\n",
       "        [0.3209877 ],\n",
       "        [0.41975307]]], dtype=float32)"
      ]
     },
     "execution_count": 67,
     "metadata": {},
     "output_type": "execute_result"
    }
   ],
   "source": [
    "trainY.reshape((trainY.shape[2], trainY.shape[0], trainY.shape[1]) )"
   ]
  },
  {
   "cell_type": "code",
   "execution_count": 82,
   "id": "9ac31caf-a503-4fe4-9e15-6cfdf5521011",
   "metadata": {},
   "outputs": [
    {
     "data": {
      "text/plain": [
       "array([0.39506173, 0.79012346], dtype=float32)"
      ]
     },
     "execution_count": 82,
     "metadata": {},
     "output_type": "execute_result"
    }
   ],
   "source": [
    "testY"
   ]
  },
  {
   "cell_type": "code",
   "execution_count": 83,
   "id": "b10c60e6-a65f-4c47-ba74-d85b6383df91",
   "metadata": {},
   "outputs": [
    {
     "data": {
      "text/plain": [
       "array([[[0.5625    ],\n",
       "        [0.        ],\n",
       "        [0.35802472]],\n",
       "\n",
       "       [[0.75      ],\n",
       "        [0.        ],\n",
       "        [0.39506173]]], dtype=float32)"
      ]
     },
     "execution_count": 83,
     "metadata": {},
     "output_type": "execute_result"
    }
   ],
   "source": [
    "testX"
   ]
  },
  {
   "cell_type": "code",
   "execution_count": null,
   "id": "d54045cd-36ed-45dd-9e3e-81a496d3f424",
   "metadata": {},
   "outputs": [],
   "source": [
    "# trainScore = np.sqrt(mean_squared_error(trainY[0], trainPredict[:, 0]))\n"
   ]
  },
  {
   "cell_type": "code",
   "execution_count": 94,
   "id": "1437553d-0a9c-496e-8d51-193b8c3cb6e3",
   "metadata": {},
   "outputs": [
    {
     "data": {
      "text/plain": [
       "array([[1.0000000e+00, 8.0910000e+03, 2.8000000e+01],\n",
       "       [2.0000000e+00, 8.0910000e+03, 1.9000000e+01],\n",
       "       [3.0000000e+00, 8.0910000e+03, 4.4000004e+01],\n",
       "       [4.0000000e+00, 8.0910000e+03, 5.1999996e+01]], dtype=float32)"
      ]
     },
     "execution_count": 94,
     "metadata": {},
     "output_type": "execute_result"
    }
   ],
   "source": [
    "trainY"
   ]
  },
  {
   "cell_type": "code",
   "execution_count": 89,
   "id": "19bb0f81-3139-4a40-a6ff-baa0f03d73ae",
   "metadata": {},
   "outputs": [
    {
     "data": {
      "text/plain": [
       "array([23.883423, 24.294989, 24.200264, 24.864338], dtype=float32)"
      ]
     },
     "execution_count": 89,
     "metadata": {},
     "output_type": "execute_result"
    }
   ],
   "source": [
    "trainPredict[:, 2]"
   ]
  },
  {
   "cell_type": "code",
   "execution_count": 93,
   "id": "9ed6dc40-efd1-426a-b0af-1a6a0c38d957",
   "metadata": {},
   "outputs": [
    {
     "data": {
      "text/plain": [
       "293.33917"
      ]
     },
     "execution_count": 93,
     "metadata": {},
     "output_type": "execute_result"
    }
   ],
   "source": [
    "mean_squared_error(trainY[:, 2], trainPredict[:, 2])"
   ]
  },
  {
   "cell_type": "code",
   "execution_count": 95,
   "id": "c1b8f6a9-1241-4a59-8805-92851647a02e",
   "metadata": {},
   "outputs": [],
   "source": [
    "# shift train predictions for plotting\n",
    "trainPredictPlot = np.empty_like(dataset)\n",
    "trainPredictPlot[:, :] = np.nan\n",
    "trainPredictPlot[look_back:len(trainPredict) + look_back, :] = trainPredict"
   ]
  },
  {
   "cell_type": "code",
   "execution_count": 96,
   "id": "853ae6df-d5cf-42c3-85ae-fca72a5c0fe9",
   "metadata": {},
   "outputs": [
    {
     "data": {
      "text/plain": [
       "array([[          nan,           nan,           nan],\n",
       "       [1.0000000e+00, 8.0910000e+03, 2.3883423e+01],\n",
       "       [2.0000000e+00, 8.0910000e+03, 2.4294989e+01],\n",
       "       [3.0000000e+00, 8.0910000e+03, 2.4200264e+01],\n",
       "       [4.0000000e+00, 8.0910000e+03, 2.4864338e+01],\n",
       "       [          nan,           nan,           nan],\n",
       "       [          nan,           nan,           nan],\n",
       "       [          nan,           nan,           nan],\n",
       "       [          nan,           nan,           nan],\n",
       "       [          nan,           nan,           nan]], dtype=float32)"
      ]
     },
     "execution_count": 96,
     "metadata": {},
     "output_type": "execute_result"
    }
   ],
   "source": [
    "trainPredictPlot"
   ]
  },
  {
   "cell_type": "code",
   "execution_count": 97,
   "id": "4e42c8f2-59b2-4f11-9ede-3f7bca4912eb",
   "metadata": {},
   "outputs": [
    {
     "data": {
      "text/plain": [
       "array([nan,  1.,  2.,  3.,  4., nan, nan, nan, nan, nan], dtype=float32)"
      ]
     },
     "execution_count": 97,
     "metadata": {},
     "output_type": "execute_result"
    }
   ],
   "source": [
    "trainPredictPlot[:, 0]"
   ]
  },
  {
   "cell_type": "code",
   "execution_count": 98,
   "id": "c0c5661d-c9ea-4db1-8e89-ae5d33d790b7",
   "metadata": {},
   "outputs": [
    {
     "data": {
      "text/plain": [
       "array([      nan, 23.883423, 24.294989, 24.200264, 24.864338,       nan,\n",
       "             nan,       nan,       nan,       nan], dtype=float32)"
      ]
     },
     "execution_count": 98,
     "metadata": {},
     "output_type": "execute_result"
    }
   ],
   "source": [
    "trainPredictPlot[:, 2]"
   ]
  },
  {
   "cell_type": "code",
   "execution_count": 101,
   "id": "0653adac-38de-4b40-9b52-fa3b85464f30",
   "metadata": {},
   "outputs": [
    {
     "data": {
      "text/plain": [
       "array([20.      , 28.      , 19.      , 44.000004, 51.999996, 18.      ,\n",
       "       47.      , 50.      , 82.      , 99.      ], dtype=float32)"
      ]
     },
     "execution_count": 101,
     "metadata": {},
     "output_type": "execute_result"
    }
   ],
   "source": [
    "scaler.inverse_transform(dataset)[:, 2]"
   ]
  },
  {
   "cell_type": "code",
   "execution_count": null,
   "id": "f1036420-d011-4e78-84d2-790b94c1686b",
   "metadata": {},
   "outputs": [],
   "source": []
  }
 ],
 "metadata": {
  "kernelspec": {
   "display_name": "Python 3 (ipykernel)",
   "language": "python",
   "name": "python3"
  },
  "language_info": {
   "codemirror_mode": {
    "name": "ipython",
    "version": 3
   },
   "file_extension": ".py",
   "mimetype": "text/x-python",
   "name": "python",
   "nbconvert_exporter": "python",
   "pygments_lexer": "ipython3",
   "version": "3.10.4"
  }
 },
 "nbformat": 4,
 "nbformat_minor": 5
}
