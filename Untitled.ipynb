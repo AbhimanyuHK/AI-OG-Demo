{
 "cells": [
  {
   "cell_type": "code",
   "execution_count": 34,
   "id": "25a06225-1719-4fc1-be57-a37cd783e13e",
   "metadata": {},
   "outputs": [],
   "source": [
    "import matplotlib.pyplot as plt\n",
    "import numpy as np\n",
    "import pandas as pd\n",
    "import torch\n",
    "import torch.nn as nn\n",
    "import torch.optim as optim\n",
    "import torch.utils.data as data"
   ]
  },
  {
   "cell_type": "code",
   "execution_count": 3,
   "id": "32f6de97-0444-44e7-8ea1-7a37db085466",
   "metadata": {},
   "outputs": [],
   "source": [
    "df = pd.read_csv(\"data/demand.csv\", index_col=\"ID\")"
   ]
  },
  {
   "cell_type": "code",
   "execution_count": 4,
   "id": "62720437-8406-41c4-8306-8cb5710d31eb",
   "metadata": {},
   "outputs": [
    {
     "data": {
      "text/html": [
       "<div>\n",
       "<style scoped>\n",
       "    .dataframe tbody tr th:only-of-type {\n",
       "        vertical-align: middle;\n",
       "    }\n",
       "\n",
       "    .dataframe tbody tr th {\n",
       "        vertical-align: top;\n",
       "    }\n",
       "\n",
       "    .dataframe thead th {\n",
       "        text-align: right;\n",
       "    }\n",
       "</style>\n",
       "<table border=\"1\" class=\"dataframe\">\n",
       "  <thead>\n",
       "    <tr style=\"text-align: right;\">\n",
       "      <th></th>\n",
       "      <th>Store ID</th>\n",
       "      <th>Total Price</th>\n",
       "      <th>Base Price</th>\n",
       "      <th>Units Sold</th>\n",
       "    </tr>\n",
       "    <tr>\n",
       "      <th>ID</th>\n",
       "      <th></th>\n",
       "      <th></th>\n",
       "      <th></th>\n",
       "      <th></th>\n",
       "    </tr>\n",
       "  </thead>\n",
       "  <tbody>\n",
       "    <tr>\n",
       "      <th>1</th>\n",
       "      <td>8091</td>\n",
       "      <td>99.0375</td>\n",
       "      <td>111.8625</td>\n",
       "      <td>20</td>\n",
       "    </tr>\n",
       "    <tr>\n",
       "      <th>2</th>\n",
       "      <td>8091</td>\n",
       "      <td>99.0375</td>\n",
       "      <td>99.0375</td>\n",
       "      <td>28</td>\n",
       "    </tr>\n",
       "    <tr>\n",
       "      <th>3</th>\n",
       "      <td>8091</td>\n",
       "      <td>133.9500</td>\n",
       "      <td>133.9500</td>\n",
       "      <td>19</td>\n",
       "    </tr>\n",
       "    <tr>\n",
       "      <th>4</th>\n",
       "      <td>8091</td>\n",
       "      <td>133.9500</td>\n",
       "      <td>133.9500</td>\n",
       "      <td>44</td>\n",
       "    </tr>\n",
       "    <tr>\n",
       "      <th>5</th>\n",
       "      <td>8091</td>\n",
       "      <td>141.0750</td>\n",
       "      <td>141.0750</td>\n",
       "      <td>52</td>\n",
       "    </tr>\n",
       "    <tr>\n",
       "      <th>...</th>\n",
       "      <td>...</td>\n",
       "      <td>...</td>\n",
       "      <td>...</td>\n",
       "      <td>...</td>\n",
       "    </tr>\n",
       "    <tr>\n",
       "      <th>212638</th>\n",
       "      <td>9984</td>\n",
       "      <td>235.8375</td>\n",
       "      <td>235.8375</td>\n",
       "      <td>38</td>\n",
       "    </tr>\n",
       "    <tr>\n",
       "      <th>212639</th>\n",
       "      <td>9984</td>\n",
       "      <td>235.8375</td>\n",
       "      <td>235.8375</td>\n",
       "      <td>30</td>\n",
       "    </tr>\n",
       "    <tr>\n",
       "      <th>212642</th>\n",
       "      <td>9984</td>\n",
       "      <td>357.6750</td>\n",
       "      <td>483.7875</td>\n",
       "      <td>31</td>\n",
       "    </tr>\n",
       "    <tr>\n",
       "      <th>212643</th>\n",
       "      <td>9984</td>\n",
       "      <td>141.7875</td>\n",
       "      <td>191.6625</td>\n",
       "      <td>12</td>\n",
       "    </tr>\n",
       "    <tr>\n",
       "      <th>212644</th>\n",
       "      <td>9984</td>\n",
       "      <td>234.4125</td>\n",
       "      <td>234.4125</td>\n",
       "      <td>15</td>\n",
       "    </tr>\n",
       "  </tbody>\n",
       "</table>\n",
       "<p>150150 rows × 4 columns</p>\n",
       "</div>"
      ],
      "text/plain": [
       "        Store ID  Total Price  Base Price  Units Sold\n",
       "ID                                                   \n",
       "1           8091      99.0375    111.8625          20\n",
       "2           8091      99.0375     99.0375          28\n",
       "3           8091     133.9500    133.9500          19\n",
       "4           8091     133.9500    133.9500          44\n",
       "5           8091     141.0750    141.0750          52\n",
       "...          ...          ...         ...         ...\n",
       "212638      9984     235.8375    235.8375          38\n",
       "212639      9984     235.8375    235.8375          30\n",
       "212642      9984     357.6750    483.7875          31\n",
       "212643      9984     141.7875    191.6625          12\n",
       "212644      9984     234.4125    234.4125          15\n",
       "\n",
       "[150150 rows x 4 columns]"
      ]
     },
     "execution_count": 4,
     "metadata": {},
     "output_type": "execute_result"
    }
   ],
   "source": [
    "df"
   ]
  },
  {
   "cell_type": "code",
   "execution_count": 12,
   "id": "d49756fe-5bd3-4601-8d36-f20a41b58da5",
   "metadata": {},
   "outputs": [],
   "source": [
    "df = df[:10]"
   ]
  },
  {
   "cell_type": "code",
   "execution_count": 13,
   "id": "9655736d-444f-4cdb-b580-e13b5dfcea5f",
   "metadata": {},
   "outputs": [],
   "source": [
    "df = df.astype(float)"
   ]
  },
  {
   "cell_type": "code",
   "execution_count": 14,
   "id": "42f166a6-2680-42ec-9df3-09c7f072d5ae",
   "metadata": {},
   "outputs": [
    {
     "data": {
      "text/plain": [
       "<Axes: xlabel='ID'>"
      ]
     },
     "execution_count": 14,
     "metadata": {},
     "output_type": "execute_result"
    },
    {
     "data": {
      "image/png": "[encoded data removed]",
      "text/plain": [
       "<Figure size 640x480 with 1 Axes>"
      ]
     },
     "metadata": {},
     "output_type": "display_data"
    }
   ],
   "source": [
    "# line plot\n",
    "df.plot()\n",
    "# pyplot.show()"
   ]
  },
  {
   "cell_type": "code",
   "execution_count": null,
   "id": "c717bdce-277a-463b-940e-ca7ce420167a",
   "metadata": {},
   "outputs": [],
   "source": []
  },
  {
   "cell_type": "code",
   "execution_count": 15,
   "id": "e1678ecb-dc50-4552-8ad5-e376626c962d",
   "metadata": {},
   "outputs": [
    {
     "data": {
      "text/plain": [
       "['Base Price', 'Store ID', 'Total Price']"
      ]
     },
     "execution_count": 15,
     "metadata": {},
     "output_type": "execute_result"
    }
   ],
   "source": [
    "target_sensor = \"Units Sold\"\n",
    "feature_cols = list(df.columns.difference([target_sensor]))\n",
    "feature_cols"
   ]
  },
  {
   "cell_type": "code",
   "execution_count": 16,
   "id": "17b09d06-00af-43ac-b20e-8514ef625eb3",
   "metadata": {},
   "outputs": [
    {
     "data": {
      "text/plain": [
       "'Units Sold_lead_1'"
      ]
     },
     "execution_count": 16,
     "metadata": {},
     "output_type": "execute_result"
    }
   ],
   "source": [
    "forecast_lead = 1\n",
    "target = f\"{target_sensor}_lead_{forecast_lead}\"\n",
    "target"
   ]
  },
  {
   "cell_type": "code",
   "execution_count": 30,
   "id": "a2c6188d-f6c2-4150-b61e-4addfe72905c",
   "metadata": {},
   "outputs": [
    {
     "data": {
      "text/html": [
       "<div>\n",
       "<style scoped>\n",
       "    .dataframe tbody tr th:only-of-type {\n",
       "        vertical-align: middle;\n",
       "    }\n",
       "\n",
       "    .dataframe tbody tr th {\n",
       "        vertical-align: top;\n",
       "    }\n",
       "\n",
       "    .dataframe thead th {\n",
       "        text-align: right;\n",
       "    }\n",
       "</style>\n",
       "<table border=\"1\" class=\"dataframe\">\n",
       "  <thead>\n",
       "    <tr style=\"text-align: right;\">\n",
       "      <th></th>\n",
       "      <th>ID</th>\n",
       "      <th>Store ID</th>\n",
       "      <th>Total Price</th>\n",
       "      <th>Base Price</th>\n",
       "      <th>Units Sold</th>\n",
       "      <th>TSTB</th>\n",
       "    </tr>\n",
       "  </thead>\n",
       "  <tbody>\n",
       "    <tr>\n",
       "      <th>0</th>\n",
       "      <td>1</td>\n",
       "      <td>8091.0</td>\n",
       "      <td>99.0375</td>\n",
       "      <td>111.8625</td>\n",
       "      <td>20.0</td>\n",
       "      <td>1_8091.0_99.0375_111.8625</td>\n",
       "    </tr>\n",
       "    <tr>\n",
       "      <th>1</th>\n",
       "      <td>2</td>\n",
       "      <td>8091.0</td>\n",
       "      <td>99.0375</td>\n",
       "      <td>99.0375</td>\n",
       "      <td>28.0</td>\n",
       "      <td>2_8091.0_99.0375_99.0375</td>\n",
       "    </tr>\n",
       "    <tr>\n",
       "      <th>2</th>\n",
       "      <td>3</td>\n",
       "      <td>8091.0</td>\n",
       "      <td>133.9500</td>\n",
       "      <td>133.9500</td>\n",
       "      <td>19.0</td>\n",
       "      <td>3_8091.0_133.95_133.95</td>\n",
       "    </tr>\n",
       "    <tr>\n",
       "      <th>3</th>\n",
       "      <td>4</td>\n",
       "      <td>8091.0</td>\n",
       "      <td>133.9500</td>\n",
       "      <td>133.9500</td>\n",
       "      <td>44.0</td>\n",
       "      <td>4_8091.0_133.95_133.95</td>\n",
       "    </tr>\n",
       "    <tr>\n",
       "      <th>4</th>\n",
       "      <td>5</td>\n",
       "      <td>8091.0</td>\n",
       "      <td>141.0750</td>\n",
       "      <td>141.0750</td>\n",
       "      <td>52.0</td>\n",
       "      <td>5_8091.0_141.075_141.075</td>\n",
       "    </tr>\n",
       "    <tr>\n",
       "      <th>5</th>\n",
       "      <td>9</td>\n",
       "      <td>8091.0</td>\n",
       "      <td>227.2875</td>\n",
       "      <td>227.2875</td>\n",
       "      <td>18.0</td>\n",
       "      <td>9_8091.0_227.2875_227.2875</td>\n",
       "    </tr>\n",
       "    <tr>\n",
       "      <th>6</th>\n",
       "      <td>10</td>\n",
       "      <td>8091.0</td>\n",
       "      <td>327.0375</td>\n",
       "      <td>327.0375</td>\n",
       "      <td>47.0</td>\n",
       "      <td>10_8091.0_327.0375_327.0375</td>\n",
       "    </tr>\n",
       "    <tr>\n",
       "      <th>7</th>\n",
       "      <td>13</td>\n",
       "      <td>8091.0</td>\n",
       "      <td>210.9000</td>\n",
       "      <td>210.9000</td>\n",
       "      <td>50.0</td>\n",
       "      <td>13_8091.0_210.9_210.9</td>\n",
       "    </tr>\n",
       "    <tr>\n",
       "      <th>8</th>\n",
       "      <td>14</td>\n",
       "      <td>8091.0</td>\n",
       "      <td>190.2375</td>\n",
       "      <td>234.4125</td>\n",
       "      <td>82.0</td>\n",
       "      <td>14_8091.0_190.2375_234.4125</td>\n",
       "    </tr>\n",
       "    <tr>\n",
       "      <th>9</th>\n",
       "      <td>17</td>\n",
       "      <td>8095.0</td>\n",
       "      <td>99.0375</td>\n",
       "      <td>99.0375</td>\n",
       "      <td>99.0</td>\n",
       "      <td>17_8095.0_99.0375_99.0375</td>\n",
       "    </tr>\n",
       "  </tbody>\n",
       "</table>\n",
       "</div>"
      ],
      "text/plain": [
       "   ID  Store ID  Total Price  Base Price  Units Sold  \\\n",
       "0   1    8091.0      99.0375    111.8625        20.0   \n",
       "1   2    8091.0      99.0375     99.0375        28.0   \n",
       "2   3    8091.0     133.9500    133.9500        19.0   \n",
       "3   4    8091.0     133.9500    133.9500        44.0   \n",
       "4   5    8091.0     141.0750    141.0750        52.0   \n",
       "5   9    8091.0     227.2875    227.2875        18.0   \n",
       "6  10    8091.0     327.0375    327.0375        47.0   \n",
       "7  13    8091.0     210.9000    210.9000        50.0   \n",
       "8  14    8091.0     190.2375    234.4125        82.0   \n",
       "9  17    8095.0      99.0375     99.0375        99.0   \n",
       "\n",
       "                          TSTB  \n",
       "0    1_8091.0_99.0375_111.8625  \n",
       "1     2_8091.0_99.0375_99.0375  \n",
       "2       3_8091.0_133.95_133.95  \n",
       "3       4_8091.0_133.95_133.95  \n",
       "4     5_8091.0_141.075_141.075  \n",
       "5   9_8091.0_227.2875_227.2875  \n",
       "6  10_8091.0_327.0375_327.0375  \n",
       "7        13_8091.0_210.9_210.9  \n",
       "8  14_8091.0_190.2375_234.4125  \n",
       "9    17_8095.0_99.0375_99.0375  "
      ]
     },
     "execution_count": 30,
     "metadata": {},
     "output_type": "execute_result"
    }
   ],
   "source": [
    "df1 = df.copy()\n",
    "df1 = df1.reset_index()\n",
    "df1[\"TSTB\"] = df1[\"ID\"].astype(str) + \"_\" + df1[\"Store ID\"].astype(str) + \"_\" + df1[\"Total Price\"].astype(str) + \"_\" + df1[\"Base Price\"].astype(str)\n",
    "df1"
   ]
  },
  {
   "cell_type": "code",
   "execution_count": 36,
   "id": "05ce1eb6-9230-475c-b4d1-462f80f91cdf",
   "metadata": {},
   "outputs": [
    {
     "data": {
      "image/png": "[encoded data removed]",
      "text/plain": [
       "<Figure size 640x480 with 1 Axes>"
      ]
     },
     "metadata": {},
     "output_type": "display_data"
    }
   ],
   "source": [
    "df1.plot(x=\"TSTB\", y=\"Units Sold\")\n",
    "plt.show()"
   ]
  },
  {
   "cell_type": "code",
   "execution_count": 9,
   "id": "c72bbd8d-4c60-423b-ab05-a0bfcf4ccf91",
   "metadata": {},
   "outputs": [],
   "source": [
    "lt = []\n",
    "# for x, y_df in df.groupby([\"Store ID\"]):\n",
    "for x, y_df in df.groupby(feature_cols):\n",
    "    y_df[target] = y_df[target_sensor].shift(-forecast_lead, fill_value=y_df[target_sensor].mean())\n",
    "    lt.append(y_df)\n",
    "\n",
    "    # print(x)\n",
    "    # print(y_df)"
   ]
  },
  {
   "cell_type": "code",
   "execution_count": 10,
   "id": "42bdd1d8-07ed-456d-8f27-69518ee2d723",
   "metadata": {},
   "outputs": [
    {
     "data": {
      "text/html": [
       "<div>\n",
       "<style scoped>\n",
       "    .dataframe tbody tr th:only-of-type {\n",
       "        vertical-align: middle;\n",
       "    }\n",
       "\n",
       "    .dataframe tbody tr th {\n",
       "        vertical-align: top;\n",
       "    }\n",
       "\n",
       "    .dataframe thead th {\n",
       "        text-align: right;\n",
       "    }\n",
       "</style>\n",
       "<table border=\"1\" class=\"dataframe\">\n",
       "  <thead>\n",
       "    <tr style=\"text-align: right;\">\n",
       "      <th></th>\n",
       "      <th>Store ID</th>\n",
       "      <th>Total Price</th>\n",
       "      <th>Base Price</th>\n",
       "      <th>Units Sold</th>\n",
       "      <th>Units Sold_lead_1</th>\n",
       "    </tr>\n",
       "    <tr>\n",
       "      <th>ID</th>\n",
       "      <th></th>\n",
       "      <th></th>\n",
       "      <th></th>\n",
       "      <th></th>\n",
       "      <th></th>\n",
       "    </tr>\n",
       "  </thead>\n",
       "  <tbody>\n",
       "    <tr>\n",
       "      <th>68</th>\n",
       "      <td>8063.0</td>\n",
       "      <td>82.6500</td>\n",
       "      <td>82.6500</td>\n",
       "      <td>48.0</td>\n",
       "      <td>48.0</td>\n",
       "    </tr>\n",
       "    <tr>\n",
       "      <th>69</th>\n",
       "      <td>8063.0</td>\n",
       "      <td>84.0750</td>\n",
       "      <td>84.0750</td>\n",
       "      <td>62.0</td>\n",
       "      <td>62.0</td>\n",
       "    </tr>\n",
       "    <tr>\n",
       "      <th>44</th>\n",
       "      <td>8094.0</td>\n",
       "      <td>85.5000</td>\n",
       "      <td>85.5000</td>\n",
       "      <td>11.0</td>\n",
       "      <td>11.0</td>\n",
       "    </tr>\n",
       "    <tr>\n",
       "      <th>42</th>\n",
       "      <td>8094.0</td>\n",
       "      <td>87.6375</td>\n",
       "      <td>87.6375</td>\n",
       "      <td>109.0</td>\n",
       "      <td>109.0</td>\n",
       "    </tr>\n",
       "    <tr>\n",
       "      <th>93</th>\n",
       "      <td>8023.0</td>\n",
       "      <td>98.3250</td>\n",
       "      <td>88.3500</td>\n",
       "      <td>233.0</td>\n",
       "      <td>256.0</td>\n",
       "    </tr>\n",
       "    <tr>\n",
       "      <th>...</th>\n",
       "      <td>...</td>\n",
       "      <td>...</td>\n",
       "      <td>...</td>\n",
       "      <td>...</td>\n",
       "      <td>...</td>\n",
       "    </tr>\n",
       "    <tr>\n",
       "      <th>37</th>\n",
       "      <td>8095.0</td>\n",
       "      <td>427.5000</td>\n",
       "      <td>448.1625</td>\n",
       "      <td>50.0</td>\n",
       "      <td>50.0</td>\n",
       "    </tr>\n",
       "    <tr>\n",
       "      <th>87</th>\n",
       "      <td>8063.0</td>\n",
       "      <td>426.7875</td>\n",
       "      <td>448.8750</td>\n",
       "      <td>29.0</td>\n",
       "      <td>29.0</td>\n",
       "    </tr>\n",
       "    <tr>\n",
       "      <th>62</th>\n",
       "      <td>8094.0</td>\n",
       "      <td>426.7875</td>\n",
       "      <td>448.8750</td>\n",
       "      <td>13.0</td>\n",
       "      <td>13.0</td>\n",
       "    </tr>\n",
       "    <tr>\n",
       "      <th>38</th>\n",
       "      <td>8095.0</td>\n",
       "      <td>429.6375</td>\n",
       "      <td>458.1375</td>\n",
       "      <td>62.0</td>\n",
       "      <td>62.0</td>\n",
       "    </tr>\n",
       "    <tr>\n",
       "      <th>116</th>\n",
       "      <td>8023.0</td>\n",
       "      <td>460.2750</td>\n",
       "      <td>460.2750</td>\n",
       "      <td>32.0</td>\n",
       "      <td>32.0</td>\n",
       "    </tr>\n",
       "  </tbody>\n",
       "</table>\n",
       "<p>100 rows × 5 columns</p>\n",
       "</div>"
      ],
      "text/plain": [
       "     Store ID  Total Price  Base Price  Units Sold  Units Sold_lead_1\n",
       "ID                                                                   \n",
       "68     8063.0      82.6500     82.6500        48.0               48.0\n",
       "69     8063.0      84.0750     84.0750        62.0               62.0\n",
       "44     8094.0      85.5000     85.5000        11.0               11.0\n",
       "42     8094.0      87.6375     87.6375       109.0              109.0\n",
       "93     8023.0      98.3250     88.3500       233.0              256.0\n",
       "..        ...          ...         ...         ...                ...\n",
       "37     8095.0     427.5000    448.1625        50.0               50.0\n",
       "87     8063.0     426.7875    448.8750        29.0               29.0\n",
       "62     8094.0     426.7875    448.8750        13.0               13.0\n",
       "38     8095.0     429.6375    458.1375        62.0               62.0\n",
       "116    8023.0     460.2750    460.2750        32.0               32.0\n",
       "\n",
       "[100 rows x 5 columns]"
      ]
     },
     "execution_count": 10,
     "metadata": {},
     "output_type": "execute_result"
    }
   ],
   "source": [
    "df2 = pd.concat(lt)\n",
    "df2"
   ]
  },
  {
   "cell_type": "code",
   "execution_count": 11,
   "id": "7cd19546-e7c2-4118-b625-f25cc0f58845",
   "metadata": {},
   "outputs": [
    {
     "name": "stdout",
     "output_type": "stream",
     "text": [
      "68\n",
      "Store ID             8063.00\n",
      "Total Price            82.65\n",
      "Base Price             82.65\n",
      "Units Sold             48.00\n",
      "Units Sold_lead_1      48.00\n",
      "Name: 68, dtype: float64\n",
      "[  82.65 8063.     82.65   48.  ] [48.]\n"
     ]
    }
   ],
   "source": [
    "for z, z_df in df2.iterrows():\n",
    "    print(z)\n",
    "    print(z_df)\n",
    "    print(z_df[feature_cols+[target_sensor]].values, z_df[[target]].values)\n",
    "    break"
   ]
  },
  {
   "cell_type": "code",
   "execution_count": 12,
   "id": "528768d0-ca48-4d41-ac55-0cbeda25410d",
   "metadata": {},
   "outputs": [],
   "source": [
    "import torch\n",
    "\n",
    "def create_dataset_df(dataset, lookback):\n",
    "    \"\"\"Transform a time series into a prediction dataset\n",
    "    \n",
    "    Args:\n",
    "        dataset: A numpy array of time series, first dimension is the time steps\n",
    "        lookback: Size of window for prediction\n",
    "    \"\"\"\n",
    "    X, y = [], []\n",
    "    for z, z_df in dataset.iterrows():\n",
    "        _feature, _target = z_df[feature_cols+[target_sensor]].values, z_df[[target]].values\n",
    "        X.append(_feature)\n",
    "        y.append(_target)\n",
    "    return torch.tensor(X), torch.tensor(y)"
   ]
  },
  {
   "cell_type": "code",
   "execution_count": 13,
   "id": "7efa3775-7fec-4349-915d-6468fe4eadb6",
   "metadata": {},
   "outputs": [
    {
     "name": "stdout",
     "output_type": "stream",
     "text": [
      "Test set fraction: 0.5\n"
     ]
    }
   ],
   "source": [
    "test_start = df2.shape[0]//2\n",
    "\n",
    "df_train = df2.iloc[:test_start].copy()\n",
    "df_test = df2.iloc[test_start:].copy()\n",
    "\n",
    "print(\"Test set fraction:\", len(df_test) / len(df))"
   ]
  },
  {
   "cell_type": "code",
   "execution_count": 14,
   "id": "86be337e-e35b-46c6-93db-f108a45d4884",
   "metadata": {},
   "outputs": [
    {
     "name": "stderr",
     "output_type": "stream",
     "text": [
      "C:\\Users\\manyu\\AppData\\Local\\Temp\\ipykernel_4732\\3006353086.py:15: UserWarning: Creating a tensor from a list of numpy.ndarrays is extremely slow. Please consider converting the list to a single numpy.ndarray with numpy.array() before converting to a tensor. (Triggered internally at ..\\torch\\csrc\\utils\\tensor_new.cpp:278.)\n",
      "  return torch.tensor(X), torch.tensor(y)\n"
     ]
    },
    {
     "data": {
      "text/plain": [
       "'done'"
      ]
     },
     "execution_count": 14,
     "metadata": {},
     "output_type": "execute_result"
    }
   ],
   "source": [
    "lookback = 1\n",
    "X_train, y_train = create_dataset_df(df_train, lookback=lookback)\n",
    "X_test, y_test = create_dataset_df(df_test, lookback=lookback)\n",
    "\"done\""
   ]
  },
  {
   "cell_type": "code",
   "execution_count": 15,
   "id": "6e99dab1-df3d-489b-9523-0c526f99b954",
   "metadata": {},
   "outputs": [
    {
     "data": {
      "text/plain": [
       "(torch.Size([50, 4]), torch.Size([50, 1]))"
      ]
     },
     "execution_count": 15,
     "metadata": {},
     "output_type": "execute_result"
    }
   ],
   "source": [
    "X_train.shape, y_train.shape"
   ]
  },
  {
   "cell_type": "code",
   "execution_count": 16,
   "id": "a4e1a80e-b816-46aa-973d-c3e152c0049b",
   "metadata": {},
   "outputs": [
    {
     "data": {
      "text/plain": [
       "(torch.Size([50, 4]), torch.Size([50, 1]))"
      ]
     },
     "execution_count": 16,
     "metadata": {},
     "output_type": "execute_result"
    }
   ],
   "source": [
    "X_test.shape, y_test.shape"
   ]
  },
  {
   "cell_type": "code",
   "execution_count": 17,
   "id": "4bd63510-f1ad-4bb4-b70a-a95dec51818c",
   "metadata": {
    "scrolled": true
   },
   "outputs": [
    {
     "data": {
      "text/plain": [
       "tensor([[8.2650e+01, 8.0630e+03, 8.2650e+01, 4.8000e+01],\n",
       "        [8.4075e+01, 8.0630e+03, 8.4075e+01, 6.2000e+01],\n",
       "        [8.5500e+01, 8.0940e+03, 8.5500e+01, 1.1000e+01],\n",
       "        [8.7638e+01, 8.0940e+03, 8.7638e+01, 1.0900e+02],\n",
       "        [8.8350e+01, 8.0230e+03, 9.8325e+01, 2.3300e+02],\n",
       "        [8.8350e+01, 8.0230e+03, 9.8325e+01, 2.5600e+02],\n",
       "        [8.8350e+01, 8.0940e+03, 8.8350e+01, 1.3300e+02],\n",
       "        [9.7612e+01, 8.0950e+03, 9.7612e+01, 1.2000e+02],\n",
       "        [9.8325e+01, 8.0230e+03, 9.8325e+01, 5.2000e+01],\n",
       "        [9.8325e+01, 8.0580e+03, 9.8325e+01, 1.0400e+02],\n",
       "        [9.8325e+01, 8.0580e+03, 9.8325e+01, 1.0700e+02],\n",
       "        [9.8325e+01, 8.0950e+03, 9.8325e+01, 4.0000e+01],\n",
       "        [9.9037e+01, 8.0910e+03, 9.9037e+01, 2.8000e+01],\n",
       "        [9.9037e+01, 8.0950e+03, 9.9037e+01, 9.9000e+01],\n",
       "        [1.1186e+02, 8.0910e+03, 9.9037e+01, 2.0000e+01],\n",
       "        [1.1614e+02, 8.0580e+03, 1.3965e+02, 8.2000e+01],\n",
       "        [1.2397e+02, 8.0940e+03, 1.2397e+02, 3.3000e+01],\n",
       "        [1.2754e+02, 8.0940e+03, 1.2754e+02, 1.9000e+01],\n",
       "        [1.2825e+02, 8.0630e+03, 1.2825e+02, 2.8000e+01],\n",
       "        [1.3324e+02, 8.0580e+03, 1.3324e+02, 2.5000e+01],\n",
       "        [1.3324e+02, 8.0950e+03, 1.3324e+02, 6.8000e+01],\n",
       "        [1.3395e+02, 8.0230e+03, 1.3395e+02, 5.8000e+01],\n",
       "        [1.3395e+02, 8.0580e+03, 1.3395e+02, 4.3000e+01],\n",
       "        [1.3395e+02, 8.0910e+03, 1.3395e+02, 1.9000e+01],\n",
       "        [1.3395e+02, 8.0910e+03, 1.3395e+02, 4.4000e+01],\n",
       "        [1.3395e+02, 8.0950e+03, 1.3395e+02, 8.7000e+01],\n",
       "        [1.3466e+02, 8.0230e+03, 1.3466e+02, 1.1400e+02],\n",
       "        [1.3965e+02, 8.0950e+03, 1.3965e+02, 1.8600e+02],\n",
       "        [1.4036e+02, 8.0230e+03, 1.4036e+02, 2.2600e+02],\n",
       "        [1.4107e+02, 8.0910e+03, 1.4107e+02, 5.2000e+01],\n",
       "        [1.6459e+02, 8.0940e+03, 1.3965e+02, 4.9000e+01],\n",
       "        [1.6672e+02, 8.0630e+03, 1.4321e+02, 2.3000e+01],\n",
       "        [1.7029e+02, 8.0630e+03, 1.7029e+02, 3.0000e+00],\n",
       "        [1.7029e+02, 8.0940e+03, 1.7029e+02, 1.6000e+01],\n",
       "        [1.7741e+02, 8.0230e+03, 1.7741e+02, 5.4000e+01],\n",
       "        [1.7741e+02, 8.0630e+03, 1.7741e+02, 9.0000e+00],\n",
       "        [1.7741e+02, 8.0630e+03, 1.7741e+02, 1.1000e+01],\n",
       "        [1.7741e+02, 8.0940e+03, 1.7741e+02, 2.7000e+01],\n",
       "        [1.7741e+02, 8.0940e+03, 1.7741e+02, 3.3000e+01],\n",
       "        [1.7741e+02, 8.0950e+03, 1.7741e+02, 2.2000e+01],\n",
       "        [1.8097e+02, 8.0940e+03, 1.2825e+02, 9.0000e+00],\n",
       "        [1.8311e+02, 8.0630e+03, 1.8311e+02, 8.0000e+00],\n",
       "        [1.9238e+02, 8.0230e+03, 1.9238e+02, 9.1000e+01],\n",
       "        [1.9238e+02, 8.0950e+03, 1.7385e+02, 2.1400e+02],\n",
       "        [2.0021e+02, 8.0940e+03, 1.7812e+02, 2.0000e+01],\n",
       "        [2.0093e+02, 8.0950e+03, 2.0093e+02, 7.8000e+01],\n",
       "        [2.0520e+02, 8.0230e+03, 2.0520e+02, 1.8900e+02],\n",
       "        [2.0520e+02, 8.0630e+03, 2.0520e+02, 3.0000e+01],\n",
       "        [2.0591e+02, 8.0230e+03, 2.0591e+02, 6.0000e+01],\n",
       "        [2.0591e+02, 8.0230e+03, 2.0591e+02, 2.6000e+01]], dtype=torch.float64)"
      ]
     },
     "execution_count": 17,
     "metadata": {},
     "output_type": "execute_result"
    }
   ],
   "source": [
    "X_train"
   ]
  },
  {
   "cell_type": "code",
   "execution_count": 18,
   "id": "32b60514-b378-46b6-8d31-1cc63226c216",
   "metadata": {},
   "outputs": [],
   "source": [
    "import torch.nn as nn\n",
    "\n",
    "class OGModel(nn.Module):\n",
    "    def __init__(self):\n",
    "        super().__init__()\n",
    "        self.lstm = nn.LSTM(input_size=1, hidden_size=50, num_layers=1, batch_first=True)\n",
    "        self.linear = nn.Linear(50, 1)\n",
    "    def forward(self, x):\n",
    "        x = x.to(torch.float32)\n",
    "        x, _ = self.lstm(x)\n",
    "        x = self.linear(x)\n",
    "        return x"
   ]
  },
  {
   "cell_type": "code",
   "execution_count": null,
   "id": "5cb666a1-3de3-4edd-aea8-cd72033f68b6",
   "metadata": {},
   "outputs": [
    {
     "name": "stdout",
     "output_type": "stream",
     "text": [
      "Epoch 0: train RMSE nan, test RMSE nan\n"
     ]
    }
   ],
   "source": [
    "import numpy as np\n",
    "import torch.optim as optim\n",
    "import torch.utils.data as data\n",
    "\n",
    "model = OGModel()\n",
    "optimizer = optim.Adam(model.parameters())\n",
    "loss_fn = nn.MSELoss()\n",
    "loader = data.DataLoader(data.TensorDataset(X_train, y_train), shuffle=True, batch_size=2)\n",
    "\n",
    "n_epochs = 11\n",
    "for epoch in range(n_epochs):\n",
    "    model.train()\n",
    "    for X_batch, y_batch in loader:\n",
    "        X_batch = X_batch.to(torch.float32)\n",
    "        y_batch = y_batch.to(torch.float32)\n",
    "        # print(X_batch)\n",
    "        y_pred = model(X_batch)\n",
    "        loss = loss_fn(y_pred, y_batch)\n",
    "        optimizer.zero_grad()\n",
    "        loss.backward()\n",
    "        optimizer.step()\n",
    "    # Validation\n",
    "    if epoch % 10 != 0:\n",
    "        continue\n",
    "    model.eval()\n",
    "    with torch.no_grad():\n",
    "        y_pred = model(X_train)\n",
    "        train_rmse = np.sqrt(loss_fn(y_pred, y_train))\n",
    "        y_pred = model(X_test)\n",
    "        test_rmse = np.sqrt(loss_fn(y_pred, y_test))\n",
    "    print(\"Epoch %d: train RMSE %.4f, test RMSE %.4f\" % (epoch, train_rmse, test_rmse))"
   ]
  },
  {
   "cell_type": "code",
   "execution_count": null,
   "id": "bd773bc8-4f64-4e2e-8457-73f8a79b7bc2",
   "metadata": {},
   "outputs": [],
   "source": [
    "with torch.no_grad():\n",
    "    # shift train predictions for plotting\n",
    "    train_plot = np.ones_like(timeseries) * np.nan\n",
    "    y_pred = model(X_train)\n",
    "    # print(y_pred)\n",
    "    y_pred = y_pred[:, -1, :]\n",
    "    # print(y_pred)\n",
    "    train_plot[lookback:train_size] = model(X_train)[:, -1, :]\n",
    "    # shift test predictions for plotting\n",
    "    test_plot = np.ones_like(timeseries) * np.nan\n",
    "    test_plot[train_size+lookback:len(timeseries)] = model(X_test)[:, -1, :]\n",
    "# plot\n",
    "plt.plot(timeseries, c='b')\n",
    "plt.plot(train_plot, c='r')\n",
    "plt.plot(test_plot, c='g')\n",
    "plt.show()"
   ]
  },
  {
   "cell_type": "code",
   "execution_count": null,
   "id": "274109af-7fc5-4d24-a161-2de6a2d6edd3",
   "metadata": {},
   "outputs": [],
   "source": [
    "X_test"
   ]
  },
  {
   "cell_type": "code",
   "execution_count": null,
   "id": "e6399773-c32b-4d34-8d46-20fd14569170",
   "metadata": {},
   "outputs": [],
   "source": [
    "y_test"
   ]
  },
  {
   "cell_type": "code",
   "execution_count": null,
   "id": "2d08fd0d-f7f5-43e4-ae10-0f33a1e07582",
   "metadata": {},
   "outputs": [],
   "source": [
    "model(X_test)"
   ]
  },
  {
   "cell_type": "code",
   "execution_count": 40,
   "id": "3decca44-1047-4f7d-a6bd-8845ba218f60",
   "metadata": {},
   "outputs": [
    {
     "ename": "AttributeError",
     "evalue": "Can't get attribute 'ModelData' on <module '__main__'>",
     "output_type": "error",
     "traceback": [
      "\u001b[1;31m---------------------------------------------------------------------------\u001b[0m",
      "\u001b[1;31mAttributeError\u001b[0m                            Traceback (most recent call last)",
      "Cell \u001b[1;32mIn[40], line 3\u001b[0m\n\u001b[0;32m      1\u001b[0m \u001b[38;5;28;01mimport\u001b[39;00m \u001b[38;5;21;01mpickle\u001b[39;00m\n\u001b[0;32m      2\u001b[0m \u001b[38;5;66;03m# x = open(\"data/ml_data.h5\", \"ab\")\u001b[39;00m\n\u001b[1;32m----> 3\u001b[0m data_model \u001b[38;5;241m=\u001b[39m \u001b[43mpickle\u001b[49m\u001b[38;5;241;43m.\u001b[39;49m\u001b[43mload\u001b[49m\u001b[43m(\u001b[49m\u001b[38;5;28;43mopen\u001b[39;49m\u001b[43m(\u001b[49m\u001b[38;5;124;43m\"\u001b[39;49m\u001b[38;5;124;43mdata/ml_data.h5\u001b[39;49m\u001b[38;5;124;43m\"\u001b[39;49m\u001b[43m,\u001b[49m\u001b[43m \u001b[49m\u001b[38;5;124;43m\"\u001b[39;49m\u001b[38;5;124;43mrb\u001b[39;49m\u001b[38;5;124;43m\"\u001b[39;49m\u001b[43m)\u001b[49m\u001b[43m)\u001b[49m\n",
      "\u001b[1;31mAttributeError\u001b[0m: Can't get attribute 'ModelData' on <module '__main__'>"
     ]
    }
   ],
   "source": [
    "import pickle\n",
    "# x = open(\"data/ml_data.h5\", \"ab\")\n",
    "data_model = pickle.load(open(\"data/ml_data.h5\", \"rb\"))"
   ]
  },
  {
   "cell_type": "code",
   "execution_count": 1,
   "id": "8efb4579-465e-4884-8371-4e0171de8497",
   "metadata": {},
   "outputs": [],
   "source": [
    "# LSTM for international airline passengers problem with regression framing\n",
    "import pickle\n",
    "\n",
    "import numpy as np\n",
    "import pandas as pd\n",
    "import tensorflow as tf\n",
    "from pandas import read_csv\n",
    "from sklearn.metrics import mean_squared_error\n",
    "from sklearn.preprocessing import MinMaxScaler\n",
    "from tensorflow.keras.layers import Dense\n",
    "from tensorflow.keras.layers import LSTM\n",
    "from tensorflow.keras.models import Sequential, load_model\n",
    "\n",
    "# fix random seed for reproducibility\n",
    "tf.random.set_seed(7)\n",
    "\n",
    "DATA_FILE = \"data/ml_data.h5\"\n",
    "ML_FILE = 'ml_models/forecasting_with_tensorflow_1.h5'\n",
    "\n",
    "\n",
    "class Singleton(type):\n",
    "    _instances = {}\n",
    "\n",
    "    def __call__(cls, *args, **kwargs):\n",
    "        if cls not in cls._instances:\n",
    "            cls._instances[cls] = super(Singleton, cls).__call__(*args, **kwargs)\n",
    "        return cls._instances[cls]\n",
    "\n",
    "\n",
    "def load_ml_model():\n",
    "    return load_model(ML_FILE)\n",
    "\n",
    "\n",
    "def load_ML_data_file():\n",
    "    return load_model(DATA_FILE)\n",
    "\n",
    "\n",
    "class ModelData:\n",
    "    DATASET = np.array([])\n",
    "    TRAIN_PREDICTION = np.array([])\n",
    "    TEST_PREDICTION = np.array([])\n",
    "\n",
    "    PLOT_TRAIN_DATA = None\n",
    "    PLOT_TEST_DATA = None\n",
    "\n",
    "    @staticmethod\n",
    "    def to_df():\n",
    "        df = pd.DataFrame()\n",
    "        df[\"Date\"] = ModelData.DATASET[:, 0]\n",
    "        df[\"Store\"] = ModelData.DATASET[:, 1]\n",
    "        df[\"Actual\"] = ModelData.DATASET[:, 2]\n",
    "        df[\"Train\"] = ModelData.PLOT_TRAIN_DATA[:, 2]\n",
    "        df[\"Test\"] = ModelData.PLOT_TEST_DATA[:, 2]\n",
    "        return df\n",
    "\n",
    "\n",
    "class DemandForecastingModel(metaclass=Singleton):\n",
    "    DATASET = np.array([])\n",
    "    TRAIN_PREDICTION = np.array([])\n",
    "    TEST_PREDICTION = np.array([])\n",
    "\n",
    "    def __init__(self):\n",
    "        self.dataset = np.array([])\n",
    "        self.look_back = 1\n",
    "\n",
    "        self.min_max_scaler = MinMaxScaler(feature_range=(0, 1))\n",
    "        self.data_split_index = 0\n",
    "\n",
    "        # create and fit the LSTM network\n",
    "        self.model = Sequential()\n",
    "        self.model.add(LSTM(4, input_shape=(1, self.look_back)))\n",
    "        self.model.add(Dense(1))\n",
    "        self.model.compile(loss='mean_squared_error', optimizer='adam')\n",
    "\n",
    "        # self.main()\n",
    "\n",
    "    def main(self):\n",
    "\n",
    "        self.read_data()\n",
    "        self.normalize_the_dataset()\n",
    "        train, test = self.__split_data_train_and_test__()\n",
    "\n",
    "        train_X, train_Y = self.create_dataset(train)\n",
    "        test_X, test_Y = self.create_dataset(test)\n",
    "\n",
    "        train_X = self.reshape_data(train_X)\n",
    "        test_X = self.reshape_data(test_X)\n",
    "\n",
    "        self.fit(train_X, train_Y)\n",
    "\n",
    "        self.train_validate(train_X, train_Y)\n",
    "        self.test_validate(test_X, test_Y)\n",
    "\n",
    "        self.save_model()\n",
    "        ModelData.DATASET = self.min_max_scaler.inverse_transform(self.dataset)\n",
    "        self.plot_data()\n",
    "\n",
    "    def predict(self, store_option, date_option):\n",
    "        _input_array = np.array(\n",
    "            [\n",
    "                [date_option, store_option, 0.0]\n",
    "\n",
    "            ]\n",
    "        )\n",
    "        _input_array_sc = self.min_max_scaler.transform(_input_array)\n",
    "\n",
    "        result = self.model.predict([_input_array_sc])\n",
    "        return self.min_max_scaler.inverse_transform(result)\n",
    "\n",
    "    # convert an array of values into a dataset matrix\n",
    "    def create_dataset(self, _dataset):\n",
    "        dataX, dataY = [], []\n",
    "        for i in range(len(_dataset) - self.look_back - 1):\n",
    "            a = _dataset[i:(i + self.look_back)]\n",
    "            b = _dataset[i + self.look_back, 2]\n",
    "            dataX.append(a)\n",
    "            dataY.append(b)\n",
    "        return np.array(dataX), np.array(dataY)\n",
    "\n",
    "    def read_data(self, file='data/final_demand_invt.csv'):\n",
    "        # load the dataset\n",
    "        dataframe = read_csv(file, usecols=[0, 1, 2], engine='python')\n",
    "        dataframe = dataframe[:100]\n",
    "        print(dataframe)\n",
    "        self.dataset = dataframe.values\n",
    "        self.dataset = self.dataset.astype('float32')\n",
    "        return self.dataset\n",
    "\n",
    "    def normalize_the_dataset(self):\n",
    "        self.dataset = self.min_max_scaler.fit_transform(self.dataset)\n",
    "\n",
    "    def __split_data_train_and_test__(self):\n",
    "        train_size = int(len(self.dataset) * 0.67)\n",
    "        train, test = self.dataset[0:train_size, :], self.dataset[train_size:len(self.dataset), :]\n",
    "        return train, test\n",
    "\n",
    "    def reshape_data(self, dataset):\n",
    "        print(dataset.shape, \"=>\")\n",
    "        print((dataset.shape[0], 3, dataset.shape[1]))\n",
    "        return np.reshape(dataset, (dataset.shape[0], 3, dataset.shape[1]))\n",
    "\n",
    "    def reshape_test_data(self, testX):\n",
    "        return np.reshape(testX, (testX.shape[0], 3, testX.shape[1]))\n",
    "\n",
    "    def fit(self, train_X, train_Y):\n",
    "        self.model.fit([train_X], train_Y, epochs=20, batch_size=1, verbose=2)\n",
    "\n",
    "    def validate(self, train_X, test_y, test_X, test_Y):\n",
    "        self.train_validate(train_X, test_y)\n",
    "        self.test_validate(test_X, test_Y)\n",
    "\n",
    "    def test_validate(self, test_X, test_Y):\n",
    "        predicted_y = self.model.predict(test_X)\n",
    "        self.test_inverse_transform(test_X, test_Y, predicted_y)\n",
    "\n",
    "    def train_validate(self, train_X, test_y):\n",
    "        train_predict = self.model.predict(train_X)\n",
    "        self.train_inverse_transform(train_X, test_y, train_predict)\n",
    "\n",
    "    def _inverse_transform_predict_(self, test_data, predict_data=np.array([]), test_y_data=np.array([])):\n",
    "        x_predict = test_data.copy()\n",
    "        if np.any(predict_data):\n",
    "            x_predict[:, 2] = predict_data\n",
    "        if np.any(test_y_data):\n",
    "            x_predict[:, 2] = test_y_data.reshape(test_y_data.shape[0], 1)\n",
    "\n",
    "        return x_predict.reshape((x_predict.shape[0] * x_predict.shape[2]), x_predict.shape[1])\n",
    "\n",
    "    def train_inverse_transform(self, train_X, train_Y, train_predict):\n",
    "        train_predict_in = self.min_max_scaler.inverse_transform(\n",
    "            self._inverse_transform_predict_(train_X, predict_data=train_predict)\n",
    "        )\n",
    "        train_y_in = self.min_max_scaler.inverse_transform(\n",
    "            self._inverse_transform_predict_(train_X, test_y_data=train_Y)\n",
    "        )\n",
    "        self.rmse_score(train_y_in, train_predict_in, \"Train\")\n",
    "        ModelData.TRAIN_PREDICTION = train_predict_in\n",
    "        return train_predict_in, train_y_in\n",
    "\n",
    "    def test_inverse_transform(self, test_X, test_Y, test_predict):\n",
    "        test_predict_in = self.min_max_scaler.inverse_transform(\n",
    "            self._inverse_transform_predict_(test_X, predict_data=test_predict)\n",
    "        )\n",
    "        test_y_in = self.min_max_scaler.inverse_transform(\n",
    "            self._inverse_transform_predict_(test_X, test_y_data=test_Y)\n",
    "        )\n",
    "        self.rmse_score(test_y_in, test_predict_in, \"Test\")\n",
    "        ModelData.TEST_PREDICTION = test_predict_in\n",
    "        return test_predict_in, test_y_in\n",
    "\n",
    "    @classmethod\n",
    "    def rmse_score(cls, test_y, predicted_y, message):\n",
    "        # calculate root mean squared error\n",
    "        score = np.sqrt(mean_squared_error(test_y[:, 2], predicted_y[:, 2]))\n",
    "        print(f'{message} Score: {score} RMSE')\n",
    "        return score\n",
    "\n",
    "    def save_model(self):\n",
    "        self.model.save(ML_FILE)\n",
    "\n",
    "    def plot_data(self):\n",
    "        # shift train predictions for plotting\n",
    "        trainPredictPlot = np.empty_like(self.dataset)\n",
    "        trainPredictPlot[:, :] = np.nan\n",
    "        trainPredictPlot[\n",
    "        self.look_back:len(ModelData.TRAIN_PREDICTION) + self.look_back, :\n",
    "        ] = ModelData.TRAIN_PREDICTION\n",
    "        ModelData.PLOT_TRAIN_DATA = trainPredictPlot\n",
    "\n",
    "        # shift test predictions for plotting\n",
    "        testPredictPlot = np.empty_like(self.dataset)\n",
    "        testPredictPlot[:, :] = np.nan\n",
    "        testPredictPlot[\n",
    "        len(ModelData.TRAIN_PREDICTION) + (self.look_back * 2) + 1:len(self.dataset) - 1, :\n",
    "        ] = ModelData.TEST_PREDICTION\n",
    "        ModelData.PLOT_TEST_DATA = testPredictPlot\n",
    "\n",
    "        with open(DATA_FILE, 'ab') as f:\n",
    "            pickle.dump(ModelData, f)\n"
   ]
  },
  {
   "cell_type": "code",
   "execution_count": 2,
   "id": "2e17a104-c32a-45f6-b111-b171cea37559",
   "metadata": {},
   "outputs": [
    {
     "name": "stderr",
     "output_type": "stream",
     "text": [
      "C:\\Users\\manyu\\MyStack\\AI-OG-Demo\\venv\\lib\\site-packages\\keras\\src\\layers\\rnn\\rnn.py:205: UserWarning: Do not pass an `input_shape`/`input_dim` argument to a layer. When using Sequential models, prefer using an `Input(shape)` object as the first layer in the model instead.\n",
      "  super().__init__(**kwargs)\n"
     ]
    }
   ],
   "source": [
    "model = DemandForecastingModel()"
   ]
  },
  {
   "cell_type": "code",
   "execution_count": 3,
   "id": "516ad419-4f4d-49f3-9fe9-be6c5df75133",
   "metadata": {
    "scrolled": true
   },
   "outputs": [
    {
     "name": "stdout",
     "output_type": "stream",
     "text": [
      "        Date  Store ID  Units Sold\n",
      "0   20160918      8023         233\n",
      "1   20160919      8023         256\n",
      "2   20160920      8023          52\n",
      "3   20160921      8023          18\n",
      "4   20160922      8023          58\n",
      "..       ...       ...         ...\n",
      "95  20161222      8023          77\n",
      "96  20161223      8023          88\n",
      "97  20161224      8023          45\n",
      "98  20161225      8023          39\n",
      "99  20161226      8023           5\n",
      "\n",
      "[100 rows x 3 columns]\n",
      "(65, 1, 3) =>\n",
      "(65, 3, 1)\n",
      "(31, 1, 3) =>\n",
      "(31, 3, 1)\n",
      "Epoch 1/20\n",
      "65/65 - 2s - 26ms/step - loss: 0.0087\n",
      "Epoch 2/20\n",
      "65/65 - 0s - 2ms/step - loss: 0.0050\n",
      "Epoch 3/20\n",
      "65/65 - 0s - 3ms/step - loss: 0.0049\n",
      "Epoch 4/20\n",
      "65/65 - 0s - 3ms/step - loss: 0.0049\n",
      "Epoch 5/20\n",
      "65/65 - 0s - 3ms/step - loss: 0.0049\n",
      "Epoch 6/20\n",
      "65/65 - 0s - 3ms/step - loss: 0.0049\n",
      "Epoch 7/20\n",
      "65/65 - 0s - 3ms/step - loss: 0.0049\n",
      "Epoch 8/20\n",
      "65/65 - 0s - 3ms/step - loss: 0.0049\n",
      "Epoch 9/20\n",
      "65/65 - 0s - 3ms/step - loss: 0.0049\n",
      "Epoch 10/20\n",
      "65/65 - 0s - 3ms/step - loss: 0.0049\n",
      "Epoch 11/20\n",
      "65/65 - 0s - 3ms/step - loss: 0.0049\n",
      "Epoch 12/20\n",
      "65/65 - 0s - 2ms/step - loss: 0.0049\n",
      "Epoch 13/20\n",
      "65/65 - 0s - 3ms/step - loss: 0.0048\n",
      "Epoch 14/20\n",
      "65/65 - 0s - 2ms/step - loss: 0.0048\n",
      "Epoch 15/20\n",
      "65/65 - 0s - 3ms/step - loss: 0.0048\n",
      "Epoch 16/20\n",
      "65/65 - 0s - 3ms/step - loss: 0.0048\n",
      "Epoch 17/20\n",
      "65/65 - 0s - 3ms/step - loss: 0.0048\n",
      "Epoch 18/20\n",
      "65/65 - 0s - 3ms/step - loss: 0.0048\n",
      "Epoch 19/20\n",
      "65/65 - 0s - 3ms/step - loss: 0.0048\n",
      "Epoch 20/20\n",
      "65/65 - 0s - 2ms/step - loss: 0.0048\n",
      "\u001b[1m3/3\u001b[0m \u001b[32m━━━━━━━━━━━━━━━━━━━━\u001b[0m\u001b[37m\u001b[0m \u001b[1m0s\u001b[0m 91ms/step\n",
      "Train Score: 85.54751586914062 RMSE\n",
      "\u001b[1m1/1\u001b[0m \u001b[32m━━━━━━━━━━━━━━━━━━━━\u001b[0m\u001b[37m\u001b[0m \u001b[1m0s\u001b[0m 42ms/step\n"
     ]
    },
    {
     "name": "stderr",
     "output_type": "stream",
     "text": [
      "WARNING:absl:You are saving your model as an HDF5 file via `model.save()` or `keras.saving.save_model(model)`. This file format is considered legacy. We recommend using instead the native Keras format, e.g. `model.save('my_model.keras')` or `keras.saving.save_model(model, 'my_model.keras')`. \n"
     ]
    },
    {
     "name": "stdout",
     "output_type": "stream",
     "text": [
      "Test Score: 235.19677734375 RMSE\n"
     ]
    }
   ],
   "source": [
    "model.main()"
   ]
  },
  {
   "cell_type": "code",
   "execution_count": 27,
   "id": "68a21b4e-085d-433a-bc39-1bd4881271ea",
   "metadata": {},
   "outputs": [
    {
     "name": "stdout",
     "output_type": "stream",
     "text": [
      "(1, 1, 3) =>\n",
      "(1, 3, 1)\n",
      "\u001b[1m1/1\u001b[0m \u001b[32m━━━━━━━━━━━━━━━━━━━━\u001b[0m\u001b[37m\u001b[0m \u001b[1m0s\u001b[0m 25ms/step\n"
     ]
    },
    {
     "data": {
      "text/plain": [
       "array([[ 2.02403110e+07,  8.02300000e+03, -1.39151326e-01]])"
      ]
     },
     "execution_count": 27,
     "metadata": {},
     "output_type": "execute_result"
    }
   ],
   "source": [
    "_input_array = np.array(\n",
    "    [\n",
    "        [20240311.0, 8023.0, 0.0]\n",
    "\n",
    "    ]\n",
    ")\n",
    "_input_array_sc = model.min_max_scaler.transform(_input_array)\n",
    "_input_array_sc_d = np.array([_input_array_sc[0:1]])\n",
    "_input_array_sc_d_r = model.reshape_data(_input_array_sc_d)\n",
    "result = model.model.predict(_input_array_sc_d_r)\n",
    "model.min_max_scaler.inverse_transform(\n",
    "    model._inverse_transform_predict_(_input_array_sc_d_r, predict_data=result)\n",
    ")"
   ]
  },
  {
   "cell_type": "code",
   "execution_count": 24,
   "id": "45215eb7-6a9b-4f55-bdc5-b8574b5419c2",
   "metadata": {},
   "outputs": [
    {
     "data": {
      "text/plain": [
       "array([[2.0240311e+07, 8.0230000e+03, 0.0000000e+00]])"
      ]
     },
     "execution_count": 24,
     "metadata": {},
     "output_type": "execute_result"
    }
   ],
   "source": [
    "_input_array"
   ]
  },
  {
   "cell_type": "code",
   "execution_count": 25,
   "id": "44abd17f-6779-476a-a8ef-7345ee63a18d",
   "metadata": {},
   "outputs": [
    {
     "data": {
      "text/plain": [
       "array([[ 2.57768050e+02,  0.00000000e+00, -4.02576476e-03]])"
      ]
     },
     "execution_count": 25,
     "metadata": {},
     "output_type": "execute_result"
    }
   ],
   "source": [
    "_input_array_sc"
   ]
  },
  {
   "cell_type": "code",
   "execution_count": 20,
   "id": "b0084e8b-099f-4e32-a583-630578624b31",
   "metadata": {},
   "outputs": [
    {
     "data": {
      "text/plain": [
       "array([[ 2.57768050e+02,  0.00000000e+00, -4.13780287e-03]])"
      ]
     },
     "execution_count": 20,
     "metadata": {},
     "output_type": "execute_result"
    }
   ],
   "source": [
    "model._inverse_transform_predict_(_input_array_sc_d_r, predict_data=result)"
   ]
  },
  {
   "cell_type": "code",
   "execution_count": 18,
   "id": "da0abbcc-5a83-40cc-b21b-2168e56ae09c",
   "metadata": {},
   "outputs": [
    {
     "name": "stdout",
     "output_type": "stream",
     "text": [
      "(1, 1, 3) =>\n",
      "(1, 3, 1)\n"
     ]
    },
    {
     "data": {
      "text/plain": [
       "array([[[ 2.57768050e+02],\n",
       "        [ 0.00000000e+00],\n",
       "        [-4.02576476e-03]]])"
      ]
     },
     "execution_count": 18,
     "metadata": {},
     "output_type": "execute_result"
    }
   ],
   "source": [
    "model.reshape_data(_input_array_sc_d)"
   ]
  },
  {
   "cell_type": "code",
   "execution_count": 15,
   "id": "432e572f-135a-4510-b886-227a287649dc",
   "metadata": {},
   "outputs": [
    {
     "data": {
      "text/plain": [
       "array([[[ 2.57768050e+02,  0.00000000e+00, -4.02576476e-03]]])"
      ]
     },
     "execution_count": 15,
     "metadata": {},
     "output_type": "execute_result"
    }
   ],
   "source": [
    "np.array([_input_array_sc[0:1]])"
   ]
  },
  {
   "cell_type": "code",
   "execution_count": 26,
   "id": "f6baf6c7-e795-4cb0-93df-1d2cbaa9bae6",
   "metadata": {},
   "outputs": [
    {
     "data": {
      "text/plain": [
       "array([[ 2.02403110e+07,  8.02300000e+03, -1.39151326e-01]])"
      ]
     },
     "execution_count": 26,
     "metadata": {},
     "output_type": "execute_result"
    }
   ],
   "source": [
    "model.min_max_scaler.inverse_transform(\n",
    "            model._inverse_transform_predict_(_input_array_sc_d_r, predict_data=result)\n",
    "        )"
   ]
  },
  {
   "cell_type": "code",
   "execution_count": null,
   "id": "4d7a07c4-df95-4405-a335-06de53d2aeb1",
   "metadata": {},
   "outputs": [],
   "source": []
  }
 ],
 "metadata": {
  "kernelspec": {
   "display_name": "Python 3 (ipykernel)",
   "language": "python",
   "name": "python3"
  },
  "language_info": {
   "codemirror_mode": {
    "name": "ipython",
    "version": 3
   },
   "file_extension": ".py",
   "mimetype": "text/x-python",
   "name": "python",
   "nbconvert_exporter": "python",
   "pygments_lexer": "ipython3",
   "version": "3.10.4"
  }
 },
 "nbformat": 4,
 "nbformat_minor": 5
}
