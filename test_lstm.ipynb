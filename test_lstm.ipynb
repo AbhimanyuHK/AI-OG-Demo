{
 "cells": [
  {
   "cell_type": "code",
   "execution_count": 49,
   "id": "1b854269-3a47-45ec-bb7f-701c8b55ff5c",
   "metadata": {},
   "outputs": [],
   "source": [
    "import pandas as pd\n",
    "\n",
    "df = pd.read_csv(\"data/demand.csv\", index_col=\"ID\")"
   ]
  },
  {
   "cell_type": "code",
   "execution_count": 52,
   "id": "48a5773c-54ba-4918-b743-e5f5bf6fcad0",
   "metadata": {},
   "outputs": [],
   "source": [
    "df = df.dropna()"
   ]
  },
  {
   "cell_type": "code",
   "execution_count": 53,
   "id": "ed44f82f-eb6c-41ba-acb0-d0d71c262026",
   "metadata": {},
   "outputs": [
    {
     "data": {
      "text/html": [
       "<div>\n",
       "<style scoped>\n",
       "    .dataframe tbody tr th:only-of-type {\n",
       "        vertical-align: middle;\n",
       "    }\n",
       "\n",
       "    .dataframe tbody tr th {\n",
       "        vertical-align: top;\n",
       "    }\n",
       "\n",
       "    .dataframe thead th {\n",
       "        text-align: right;\n",
       "    }\n",
       "</style>\n",
       "<table border=\"1\" class=\"dataframe\">\n",
       "  <thead>\n",
       "    <tr style=\"text-align: right;\">\n",
       "      <th></th>\n",
       "      <th>Store ID</th>\n",
       "      <th>Total Price</th>\n",
       "      <th>Base Price</th>\n",
       "      <th>Units Sold</th>\n",
       "    </tr>\n",
       "    <tr>\n",
       "      <th>ID</th>\n",
       "      <th></th>\n",
       "      <th></th>\n",
       "      <th></th>\n",
       "      <th></th>\n",
       "    </tr>\n",
       "  </thead>\n",
       "  <tbody>\n",
       "    <tr>\n",
       "      <th>1</th>\n",
       "      <td>8091</td>\n",
       "      <td>99.0375</td>\n",
       "      <td>111.8625</td>\n",
       "      <td>20</td>\n",
       "    </tr>\n",
       "    <tr>\n",
       "      <th>2</th>\n",
       "      <td>8091</td>\n",
       "      <td>99.0375</td>\n",
       "      <td>99.0375</td>\n",
       "      <td>28</td>\n",
       "    </tr>\n",
       "    <tr>\n",
       "      <th>3</th>\n",
       "      <td>8091</td>\n",
       "      <td>133.9500</td>\n",
       "      <td>133.9500</td>\n",
       "      <td>19</td>\n",
       "    </tr>\n",
       "    <tr>\n",
       "      <th>4</th>\n",
       "      <td>8091</td>\n",
       "      <td>133.9500</td>\n",
       "      <td>133.9500</td>\n",
       "      <td>44</td>\n",
       "    </tr>\n",
       "    <tr>\n",
       "      <th>5</th>\n",
       "      <td>8091</td>\n",
       "      <td>141.0750</td>\n",
       "      <td>141.0750</td>\n",
       "      <td>52</td>\n",
       "    </tr>\n",
       "    <tr>\n",
       "      <th>...</th>\n",
       "      <td>...</td>\n",
       "      <td>...</td>\n",
       "      <td>...</td>\n",
       "      <td>...</td>\n",
       "    </tr>\n",
       "    <tr>\n",
       "      <th>212638</th>\n",
       "      <td>9984</td>\n",
       "      <td>235.8375</td>\n",
       "      <td>235.8375</td>\n",
       "      <td>38</td>\n",
       "    </tr>\n",
       "    <tr>\n",
       "      <th>212639</th>\n",
       "      <td>9984</td>\n",
       "      <td>235.8375</td>\n",
       "      <td>235.8375</td>\n",
       "      <td>30</td>\n",
       "    </tr>\n",
       "    <tr>\n",
       "      <th>212642</th>\n",
       "      <td>9984</td>\n",
       "      <td>357.6750</td>\n",
       "      <td>483.7875</td>\n",
       "      <td>31</td>\n",
       "    </tr>\n",
       "    <tr>\n",
       "      <th>212643</th>\n",
       "      <td>9984</td>\n",
       "      <td>141.7875</td>\n",
       "      <td>191.6625</td>\n",
       "      <td>12</td>\n",
       "    </tr>\n",
       "    <tr>\n",
       "      <th>212644</th>\n",
       "      <td>9984</td>\n",
       "      <td>234.4125</td>\n",
       "      <td>234.4125</td>\n",
       "      <td>15</td>\n",
       "    </tr>\n",
       "  </tbody>\n",
       "</table>\n",
       "<p>150149 rows × 4 columns</p>\n",
       "</div>"
      ],
      "text/plain": [
       "        Store ID  Total Price  Base Price  Units Sold\n",
       "ID                                                   \n",
       "1           8091      99.0375    111.8625          20\n",
       "2           8091      99.0375     99.0375          28\n",
       "3           8091     133.9500    133.9500          19\n",
       "4           8091     133.9500    133.9500          44\n",
       "5           8091     141.0750    141.0750          52\n",
       "...          ...          ...         ...         ...\n",
       "212638      9984     235.8375    235.8375          38\n",
       "212639      9984     235.8375    235.8375          30\n",
       "212642      9984     357.6750    483.7875          31\n",
       "212643      9984     141.7875    191.6625          12\n",
       "212644      9984     234.4125    234.4125          15\n",
       "\n",
       "[150149 rows x 4 columns]"
      ]
     },
     "execution_count": 53,
     "metadata": {},
     "output_type": "execute_result"
    }
   ],
   "source": [
    "df"
   ]
  },
  {
   "cell_type": "code",
   "execution_count": 54,
   "id": "e6c2c378-28d4-4ca8-9574-62742e4ae9f9",
   "metadata": {},
   "outputs": [
    {
     "data": {
      "text/plain": [
       "['Base Price', 'Store ID', 'Total Price']"
      ]
     },
     "execution_count": 54,
     "metadata": {},
     "output_type": "execute_result"
    }
   ],
   "source": [
    "target_sensor = \"Units Sold\"\n",
    "features = list(df.columns.difference([target_sensor]))\n",
    "features"
   ]
  },
  {
   "cell_type": "code",
   "execution_count": 55,
   "id": "ed1ee572-8918-41dc-a4b7-2075a708809b",
   "metadata": {},
   "outputs": [
    {
     "data": {
      "text/plain": [
       "'Units Sold_lead_10'"
      ]
     },
     "execution_count": 55,
     "metadata": {},
     "output_type": "execute_result"
    }
   ],
   "source": [
    "forecast_lead = 10\n",
    "target = f\"{target_sensor}_lead_{forecast_lead}\"\n",
    "target"
   ]
  },
  {
   "cell_type": "code",
   "execution_count": 56,
   "id": "268275fe-92c6-44c8-b0c8-47437703617f",
   "metadata": {},
   "outputs": [
    {
     "name": "stderr",
     "output_type": "stream",
     "text": [
      "C:\\Users\\manyu\\AppData\\Local\\Temp\\ipykernel_16888\\4082843283.py:1: SettingWithCopyWarning: \n",
      "A value is trying to be set on a copy of a slice from a DataFrame.\n",
      "Try using .loc[row_indexer,col_indexer] = value instead\n",
      "\n",
      "See the caveats in the documentation: https://pandas.pydata.org/pandas-docs/stable/user_guide/indexing.html#returning-a-view-versus-a-copy\n",
      "  df[target] = df[target_sensor].shift(-forecast_lead)\n"
     ]
    },
    {
     "data": {
      "text/html": [
       "<div>\n",
       "<style scoped>\n",
       "    .dataframe tbody tr th:only-of-type {\n",
       "        vertical-align: middle;\n",
       "    }\n",
       "\n",
       "    .dataframe tbody tr th {\n",
       "        vertical-align: top;\n",
       "    }\n",
       "\n",
       "    .dataframe thead th {\n",
       "        text-align: right;\n",
       "    }\n",
       "</style>\n",
       "<table border=\"1\" class=\"dataframe\">\n",
       "  <thead>\n",
       "    <tr style=\"text-align: right;\">\n",
       "      <th></th>\n",
       "      <th>Store ID</th>\n",
       "      <th>Total Price</th>\n",
       "      <th>Base Price</th>\n",
       "      <th>Units Sold</th>\n",
       "      <th>Units Sold_lead_10</th>\n",
       "    </tr>\n",
       "    <tr>\n",
       "      <th>ID</th>\n",
       "      <th></th>\n",
       "      <th></th>\n",
       "      <th></th>\n",
       "      <th></th>\n",
       "      <th></th>\n",
       "    </tr>\n",
       "  </thead>\n",
       "  <tbody>\n",
       "    <tr>\n",
       "      <th>1</th>\n",
       "      <td>8091</td>\n",
       "      <td>99.0375</td>\n",
       "      <td>111.8625</td>\n",
       "      <td>20</td>\n",
       "      <td>120.0</td>\n",
       "    </tr>\n",
       "    <tr>\n",
       "      <th>2</th>\n",
       "      <td>8091</td>\n",
       "      <td>99.0375</td>\n",
       "      <td>99.0375</td>\n",
       "      <td>28</td>\n",
       "      <td>40.0</td>\n",
       "    </tr>\n",
       "    <tr>\n",
       "      <th>3</th>\n",
       "      <td>8091</td>\n",
       "      <td>133.9500</td>\n",
       "      <td>133.9500</td>\n",
       "      <td>19</td>\n",
       "      <td>68.0</td>\n",
       "    </tr>\n",
       "    <tr>\n",
       "      <th>4</th>\n",
       "      <td>8091</td>\n",
       "      <td>133.9500</td>\n",
       "      <td>133.9500</td>\n",
       "      <td>44</td>\n",
       "      <td>87.0</td>\n",
       "    </tr>\n",
       "    <tr>\n",
       "      <th>5</th>\n",
       "      <td>8091</td>\n",
       "      <td>141.0750</td>\n",
       "      <td>141.0750</td>\n",
       "      <td>52</td>\n",
       "      <td>186.0</td>\n",
       "    </tr>\n",
       "    <tr>\n",
       "      <th>...</th>\n",
       "      <td>...</td>\n",
       "      <td>...</td>\n",
       "      <td>...</td>\n",
       "      <td>...</td>\n",
       "      <td>...</td>\n",
       "    </tr>\n",
       "    <tr>\n",
       "      <th>212638</th>\n",
       "      <td>9984</td>\n",
       "      <td>235.8375</td>\n",
       "      <td>235.8375</td>\n",
       "      <td>38</td>\n",
       "      <td>NaN</td>\n",
       "    </tr>\n",
       "    <tr>\n",
       "      <th>212639</th>\n",
       "      <td>9984</td>\n",
       "      <td>235.8375</td>\n",
       "      <td>235.8375</td>\n",
       "      <td>30</td>\n",
       "      <td>NaN</td>\n",
       "    </tr>\n",
       "    <tr>\n",
       "      <th>212642</th>\n",
       "      <td>9984</td>\n",
       "      <td>357.6750</td>\n",
       "      <td>483.7875</td>\n",
       "      <td>31</td>\n",
       "      <td>NaN</td>\n",
       "    </tr>\n",
       "    <tr>\n",
       "      <th>212643</th>\n",
       "      <td>9984</td>\n",
       "      <td>141.7875</td>\n",
       "      <td>191.6625</td>\n",
       "      <td>12</td>\n",
       "      <td>NaN</td>\n",
       "    </tr>\n",
       "    <tr>\n",
       "      <th>212644</th>\n",
       "      <td>9984</td>\n",
       "      <td>234.4125</td>\n",
       "      <td>234.4125</td>\n",
       "      <td>15</td>\n",
       "      <td>NaN</td>\n",
       "    </tr>\n",
       "  </tbody>\n",
       "</table>\n",
       "<p>150149 rows × 5 columns</p>\n",
       "</div>"
      ],
      "text/plain": [
       "        Store ID  Total Price  Base Price  Units Sold  Units Sold_lead_10\n",
       "ID                                                                       \n",
       "1           8091      99.0375    111.8625          20               120.0\n",
       "2           8091      99.0375     99.0375          28                40.0\n",
       "3           8091     133.9500    133.9500          19                68.0\n",
       "4           8091     133.9500    133.9500          44                87.0\n",
       "5           8091     141.0750    141.0750          52               186.0\n",
       "...          ...          ...         ...         ...                 ...\n",
       "212638      9984     235.8375    235.8375          38                 NaN\n",
       "212639      9984     235.8375    235.8375          30                 NaN\n",
       "212642      9984     357.6750    483.7875          31                 NaN\n",
       "212643      9984     141.7875    191.6625          12                 NaN\n",
       "212644      9984     234.4125    234.4125          15                 NaN\n",
       "\n",
       "[150149 rows x 5 columns]"
      ]
     },
     "execution_count": 56,
     "metadata": {},
     "output_type": "execute_result"
    }
   ],
   "source": [
    "df[target] = df[target_sensor].shift(-forecast_lead)\n",
    "df"
   ]
  },
  {
   "cell_type": "code",
   "execution_count": 17,
   "id": "b2ba5169-a17f-4279-ba2a-e01d3e777fa6",
   "metadata": {},
   "outputs": [
    {
     "data": {
      "text/html": [
       "<div>\n",
       "<style scoped>\n",
       "    .dataframe tbody tr th:only-of-type {\n",
       "        vertical-align: middle;\n",
       "    }\n",
       "\n",
       "    .dataframe tbody tr th {\n",
       "        vertical-align: top;\n",
       "    }\n",
       "\n",
       "    .dataframe thead th {\n",
       "        text-align: right;\n",
       "    }\n",
       "</style>\n",
       "<table border=\"1\" class=\"dataframe\">\n",
       "  <thead>\n",
       "    <tr style=\"text-align: right;\">\n",
       "      <th></th>\n",
       "      <th>Average</th>\n",
       "      <th>Srinivaspur A</th>\n",
       "      <th>Srinivaspur B</th>\n",
       "      <th>Srinivaspur A_lead15</th>\n",
       "    </tr>\n",
       "    <tr>\n",
       "      <th>DateTime</th>\n",
       "      <th></th>\n",
       "      <th></th>\n",
       "      <th></th>\n",
       "      <th></th>\n",
       "    </tr>\n",
       "  </thead>\n",
       "  <tbody>\n",
       "    <tr>\n",
       "      <th>2024-03-08 22:46:59</th>\n",
       "      <td>50.0</td>\n",
       "      <td>71.32</td>\n",
       "      <td>51.52</td>\n",
       "      <td>75.89</td>\n",
       "    </tr>\n",
       "    <tr>\n",
       "      <th>2024-03-08 22:48:59</th>\n",
       "      <td>NaN</td>\n",
       "      <td>71.89</td>\n",
       "      <td>52.04</td>\n",
       "      <td>78.98</td>\n",
       "    </tr>\n",
       "    <tr>\n",
       "      <th>2024-03-08 22:50:59</th>\n",
       "      <td>NaN</td>\n",
       "      <td>72.85</td>\n",
       "      <td>52.95</td>\n",
       "      <td>77.86</td>\n",
       "    </tr>\n",
       "    <tr>\n",
       "      <th>2024-03-08 22:52:59</th>\n",
       "      <td>NaN</td>\n",
       "      <td>73.19</td>\n",
       "      <td>54.47</td>\n",
       "      <td>77.50</td>\n",
       "    </tr>\n",
       "    <tr>\n",
       "      <th>2024-03-08 22:54:59</th>\n",
       "      <td>NaN</td>\n",
       "      <td>76.23</td>\n",
       "      <td>55.02</td>\n",
       "      <td>78.93</td>\n",
       "    </tr>\n",
       "    <tr>\n",
       "      <th>...</th>\n",
       "      <td>...</td>\n",
       "      <td>...</td>\n",
       "      <td>...</td>\n",
       "      <td>...</td>\n",
       "    </tr>\n",
       "    <tr>\n",
       "      <th>2024-03-10 22:05:56</th>\n",
       "      <td>NaN</td>\n",
       "      <td>38.28</td>\n",
       "      <td>31.57</td>\n",
       "      <td>39.09</td>\n",
       "    </tr>\n",
       "    <tr>\n",
       "      <th>2024-03-10 22:07:55</th>\n",
       "      <td>NaN</td>\n",
       "      <td>37.60</td>\n",
       "      <td>30.89</td>\n",
       "      <td>38.96</td>\n",
       "    </tr>\n",
       "    <tr>\n",
       "      <th>2024-03-10 22:09:55</th>\n",
       "      <td>NaN</td>\n",
       "      <td>37.44</td>\n",
       "      <td>31.42</td>\n",
       "      <td>39.15</td>\n",
       "    </tr>\n",
       "    <tr>\n",
       "      <th>2024-03-10 22:11:55</th>\n",
       "      <td>NaN</td>\n",
       "      <td>37.50</td>\n",
       "      <td>31.49</td>\n",
       "      <td>38.60</td>\n",
       "    </tr>\n",
       "    <tr>\n",
       "      <th>2024-03-10 22:13:55</th>\n",
       "      <td>NaN</td>\n",
       "      <td>37.69</td>\n",
       "      <td>31.11</td>\n",
       "      <td>38.71</td>\n",
       "    </tr>\n",
       "  </tbody>\n",
       "</table>\n",
       "<p>1424 rows × 4 columns</p>\n",
       "</div>"
      ],
      "text/plain": [
       "                     Average  Srinivaspur A  Srinivaspur B  \\\n",
       "DateTime                                                     \n",
       "2024-03-08 22:46:59     50.0          71.32          51.52   \n",
       "2024-03-08 22:48:59      NaN          71.89          52.04   \n",
       "2024-03-08 22:50:59      NaN          72.85          52.95   \n",
       "2024-03-08 22:52:59      NaN          73.19          54.47   \n",
       "2024-03-08 22:54:59      NaN          76.23          55.02   \n",
       "...                      ...            ...            ...   \n",
       "2024-03-10 22:05:56      NaN          38.28          31.57   \n",
       "2024-03-10 22:07:55      NaN          37.60          30.89   \n",
       "2024-03-10 22:09:55      NaN          37.44          31.42   \n",
       "2024-03-10 22:11:55      NaN          37.50          31.49   \n",
       "2024-03-10 22:13:55      NaN          37.69          31.11   \n",
       "\n",
       "                     Srinivaspur A_lead15  \n",
       "DateTime                                   \n",
       "2024-03-08 22:46:59                 75.89  \n",
       "2024-03-08 22:48:59                 78.98  \n",
       "2024-03-08 22:50:59                 77.86  \n",
       "2024-03-08 22:52:59                 77.50  \n",
       "2024-03-08 22:54:59                 78.93  \n",
       "...                                   ...  \n",
       "2024-03-10 22:05:56                 39.09  \n",
       "2024-03-10 22:07:55                 38.96  \n",
       "2024-03-10 22:09:55                 39.15  \n",
       "2024-03-10 22:11:55                 38.60  \n",
       "2024-03-10 22:13:55                 38.71  \n",
       "\n",
       "[1424 rows x 4 columns]"
      ]
     },
     "execution_count": 17,
     "metadata": {},
     "output_type": "execute_result"
    }
   ],
   "source": [
    "df = df.iloc[:-forecast_lead]\n",
    "df"
   ]
  },
  {
   "cell_type": "code",
   "execution_count": 57,
   "id": "0c39eddc-b6eb-44aa-b516-6c5bb00c5ac4",
   "metadata": {},
   "outputs": [
    {
     "name": "stdout",
     "output_type": "stream",
     "text": [
      "Test set fraction: 0.500003330025508\n"
     ]
    }
   ],
   "source": [
    "test_start = df.shape[0]//2\n",
    "\n",
    "df_train = df.iloc[:test_start].copy()\n",
    "df_test = df.iloc[test_start:].copy()\n",
    "\n",
    "print(\"Test set fraction:\", len(df_test) / len(df))"
   ]
  },
  {
   "cell_type": "code",
   "execution_count": 58,
   "id": "86fca83b-a906-40d2-a53c-705937bec111",
   "metadata": {},
   "outputs": [
    {
     "data": {
      "text/html": [
       "<div>\n",
       "<style scoped>\n",
       "    .dataframe tbody tr th:only-of-type {\n",
       "        vertical-align: middle;\n",
       "    }\n",
       "\n",
       "    .dataframe tbody tr th {\n",
       "        vertical-align: top;\n",
       "    }\n",
       "\n",
       "    .dataframe thead th {\n",
       "        text-align: right;\n",
       "    }\n",
       "</style>\n",
       "<table border=\"1\" class=\"dataframe\">\n",
       "  <thead>\n",
       "    <tr style=\"text-align: right;\">\n",
       "      <th></th>\n",
       "      <th>Store ID</th>\n",
       "      <th>Total Price</th>\n",
       "      <th>Base Price</th>\n",
       "      <th>Units Sold</th>\n",
       "      <th>Units Sold_lead_10</th>\n",
       "    </tr>\n",
       "    <tr>\n",
       "      <th>ID</th>\n",
       "      <th></th>\n",
       "      <th></th>\n",
       "      <th></th>\n",
       "      <th></th>\n",
       "      <th></th>\n",
       "    </tr>\n",
       "  </thead>\n",
       "  <tbody>\n",
       "    <tr>\n",
       "      <th>1</th>\n",
       "      <td>8091</td>\n",
       "      <td>99.0375</td>\n",
       "      <td>111.8625</td>\n",
       "      <td>20</td>\n",
       "      <td>120.0</td>\n",
       "    </tr>\n",
       "    <tr>\n",
       "      <th>2</th>\n",
       "      <td>8091</td>\n",
       "      <td>99.0375</td>\n",
       "      <td>99.0375</td>\n",
       "      <td>28</td>\n",
       "      <td>40.0</td>\n",
       "    </tr>\n",
       "    <tr>\n",
       "      <th>3</th>\n",
       "      <td>8091</td>\n",
       "      <td>133.9500</td>\n",
       "      <td>133.9500</td>\n",
       "      <td>19</td>\n",
       "      <td>68.0</td>\n",
       "    </tr>\n",
       "    <tr>\n",
       "      <th>4</th>\n",
       "      <td>8091</td>\n",
       "      <td>133.9500</td>\n",
       "      <td>133.9500</td>\n",
       "      <td>44</td>\n",
       "      <td>87.0</td>\n",
       "    </tr>\n",
       "    <tr>\n",
       "      <th>5</th>\n",
       "      <td>8091</td>\n",
       "      <td>141.0750</td>\n",
       "      <td>141.0750</td>\n",
       "      <td>52</td>\n",
       "      <td>186.0</td>\n",
       "    </tr>\n",
       "    <tr>\n",
       "      <th>...</th>\n",
       "      <td>...</td>\n",
       "      <td>...</td>\n",
       "      <td>...</td>\n",
       "      <td>...</td>\n",
       "      <td>...</td>\n",
       "    </tr>\n",
       "    <tr>\n",
       "      <th>106219</th>\n",
       "      <td>9984</td>\n",
       "      <td>240.8250</td>\n",
       "      <td>240.8250</td>\n",
       "      <td>16</td>\n",
       "      <td>36.0</td>\n",
       "    </tr>\n",
       "    <tr>\n",
       "      <th>106220</th>\n",
       "      <td>9984</td>\n",
       "      <td>109.7250</td>\n",
       "      <td>201.6375</td>\n",
       "      <td>59</td>\n",
       "      <td>27.0</td>\n",
       "    </tr>\n",
       "    <tr>\n",
       "      <th>106221</th>\n",
       "      <td>9984</td>\n",
       "      <td>227.2875</td>\n",
       "      <td>227.2875</td>\n",
       "      <td>27</td>\n",
       "      <td>33.0</td>\n",
       "    </tr>\n",
       "    <tr>\n",
       "      <th>106224</th>\n",
       "      <td>9984</td>\n",
       "      <td>469.5375</td>\n",
       "      <td>469.5375</td>\n",
       "      <td>9</td>\n",
       "      <td>29.0</td>\n",
       "    </tr>\n",
       "    <tr>\n",
       "      <th>106225</th>\n",
       "      <td>9984</td>\n",
       "      <td>177.4125</td>\n",
       "      <td>177.4125</td>\n",
       "      <td>7</td>\n",
       "      <td>29.0</td>\n",
       "    </tr>\n",
       "  </tbody>\n",
       "</table>\n",
       "<p>75074 rows × 5 columns</p>\n",
       "</div>"
      ],
      "text/plain": [
       "        Store ID  Total Price  Base Price  Units Sold  Units Sold_lead_10\n",
       "ID                                                                       \n",
       "1           8091      99.0375    111.8625          20               120.0\n",
       "2           8091      99.0375     99.0375          28                40.0\n",
       "3           8091     133.9500    133.9500          19                68.0\n",
       "4           8091     133.9500    133.9500          44                87.0\n",
       "5           8091     141.0750    141.0750          52               186.0\n",
       "...          ...          ...         ...         ...                 ...\n",
       "106219      9984     240.8250    240.8250          16                36.0\n",
       "106220      9984     109.7250    201.6375          59                27.0\n",
       "106221      9984     227.2875    227.2875          27                33.0\n",
       "106224      9984     469.5375    469.5375           9                29.0\n",
       "106225      9984     177.4125    177.4125           7                29.0\n",
       "\n",
       "[75074 rows x 5 columns]"
      ]
     },
     "execution_count": 58,
     "metadata": {},
     "output_type": "execute_result"
    }
   ],
   "source": [
    "df_train"
   ]
  },
  {
   "cell_type": "code",
   "execution_count": 59,
   "id": "bf033c7f-7864-43e5-9d00-5bacc16fe3d7",
   "metadata": {},
   "outputs": [
    {
     "data": {
      "text/html": [
       "<div>\n",
       "<style scoped>\n",
       "    .dataframe tbody tr th:only-of-type {\n",
       "        vertical-align: middle;\n",
       "    }\n",
       "\n",
       "    .dataframe tbody tr th {\n",
       "        vertical-align: top;\n",
       "    }\n",
       "\n",
       "    .dataframe thead th {\n",
       "        text-align: right;\n",
       "    }\n",
       "</style>\n",
       "<table border=\"1\" class=\"dataframe\">\n",
       "  <thead>\n",
       "    <tr style=\"text-align: right;\">\n",
       "      <th></th>\n",
       "      <th>Store ID</th>\n",
       "      <th>Total Price</th>\n",
       "      <th>Base Price</th>\n",
       "      <th>Units Sold</th>\n",
       "      <th>Units Sold_lead_10</th>\n",
       "    </tr>\n",
       "    <tr>\n",
       "      <th>ID</th>\n",
       "      <th></th>\n",
       "      <th></th>\n",
       "      <th></th>\n",
       "      <th></th>\n",
       "      <th></th>\n",
       "    </tr>\n",
       "  </thead>\n",
       "  <tbody>\n",
       "    <tr>\n",
       "      <th>106226</th>\n",
       "      <td>9984</td>\n",
       "      <td>177.4125</td>\n",
       "      <td>213.0375</td>\n",
       "      <td>12</td>\n",
       "      <td>159.0</td>\n",
       "    </tr>\n",
       "    <tr>\n",
       "      <th>106227</th>\n",
       "      <td>8091</td>\n",
       "      <td>104.0250</td>\n",
       "      <td>104.0250</td>\n",
       "      <td>40</td>\n",
       "      <td>113.0</td>\n",
       "    </tr>\n",
       "    <tr>\n",
       "      <th>106228</th>\n",
       "      <td>8091</td>\n",
       "      <td>106.1625</td>\n",
       "      <td>106.1625</td>\n",
       "      <td>43</td>\n",
       "      <td>162.0</td>\n",
       "    </tr>\n",
       "    <tr>\n",
       "      <th>106229</th>\n",
       "      <td>8091</td>\n",
       "      <td>117.5625</td>\n",
       "      <td>132.5250</td>\n",
       "      <td>47</td>\n",
       "      <td>84.0</td>\n",
       "    </tr>\n",
       "    <tr>\n",
       "      <th>106230</th>\n",
       "      <td>8091</td>\n",
       "      <td>118.2750</td>\n",
       "      <td>133.9500</td>\n",
       "      <td>46</td>\n",
       "      <td>103.0</td>\n",
       "    </tr>\n",
       "    <tr>\n",
       "      <th>...</th>\n",
       "      <td>...</td>\n",
       "      <td>...</td>\n",
       "      <td>...</td>\n",
       "      <td>...</td>\n",
       "      <td>...</td>\n",
       "    </tr>\n",
       "    <tr>\n",
       "      <th>212638</th>\n",
       "      <td>9984</td>\n",
       "      <td>235.8375</td>\n",
       "      <td>235.8375</td>\n",
       "      <td>38</td>\n",
       "      <td>NaN</td>\n",
       "    </tr>\n",
       "    <tr>\n",
       "      <th>212639</th>\n",
       "      <td>9984</td>\n",
       "      <td>235.8375</td>\n",
       "      <td>235.8375</td>\n",
       "      <td>30</td>\n",
       "      <td>NaN</td>\n",
       "    </tr>\n",
       "    <tr>\n",
       "      <th>212642</th>\n",
       "      <td>9984</td>\n",
       "      <td>357.6750</td>\n",
       "      <td>483.7875</td>\n",
       "      <td>31</td>\n",
       "      <td>NaN</td>\n",
       "    </tr>\n",
       "    <tr>\n",
       "      <th>212643</th>\n",
       "      <td>9984</td>\n",
       "      <td>141.7875</td>\n",
       "      <td>191.6625</td>\n",
       "      <td>12</td>\n",
       "      <td>NaN</td>\n",
       "    </tr>\n",
       "    <tr>\n",
       "      <th>212644</th>\n",
       "      <td>9984</td>\n",
       "      <td>234.4125</td>\n",
       "      <td>234.4125</td>\n",
       "      <td>15</td>\n",
       "      <td>NaN</td>\n",
       "    </tr>\n",
       "  </tbody>\n",
       "</table>\n",
       "<p>75075 rows × 5 columns</p>\n",
       "</div>"
      ],
      "text/plain": [
       "        Store ID  Total Price  Base Price  Units Sold  Units Sold_lead_10\n",
       "ID                                                                       \n",
       "106226      9984     177.4125    213.0375          12               159.0\n",
       "106227      8091     104.0250    104.0250          40               113.0\n",
       "106228      8091     106.1625    106.1625          43               162.0\n",
       "106229      8091     117.5625    132.5250          47                84.0\n",
       "106230      8091     118.2750    133.9500          46               103.0\n",
       "...          ...          ...         ...         ...                 ...\n",
       "212638      9984     235.8375    235.8375          38                 NaN\n",
       "212639      9984     235.8375    235.8375          30                 NaN\n",
       "212642      9984     357.6750    483.7875          31                 NaN\n",
       "212643      9984     141.7875    191.6625          12                 NaN\n",
       "212644      9984     234.4125    234.4125          15                 NaN\n",
       "\n",
       "[75075 rows x 5 columns]"
      ]
     },
     "execution_count": 59,
     "metadata": {},
     "output_type": "execute_result"
    }
   ],
   "source": [
    "df_test"
   ]
  },
  {
   "cell_type": "code",
   "execution_count": 60,
   "id": "3c3fa86e-81b4-4200-9536-f019fa42bcb4",
   "metadata": {},
   "outputs": [
    {
     "data": {
      "text/plain": [
       "(150149, 5)"
      ]
     },
     "execution_count": 60,
     "metadata": {},
     "output_type": "execute_result"
    }
   ],
   "source": [
    "df.shape"
   ]
  },
  {
   "cell_type": "code",
   "execution_count": 31,
   "id": "b03f1d66-fd2b-496b-9d02-377f10a52dad",
   "metadata": {},
   "outputs": [],
   "source": [
    "target_mean = df_train[target].mean()\n",
    "target_stdev = df_train[target].std()"
   ]
  },
  {
   "cell_type": "code",
   "execution_count": 32,
   "id": "48937603-78d5-457b-ac19-1d49ed7e9e39",
   "metadata": {},
   "outputs": [
    {
     "data": {
      "text/plain": [
       "62.48769662921349"
      ]
     },
     "execution_count": 32,
     "metadata": {},
     "output_type": "execute_result"
    }
   ],
   "source": [
    "target_mean"
   ]
  },
  {
   "cell_type": "code",
   "execution_count": 33,
   "id": "d861e537-d826-44cc-98ae-d7fb32602e64",
   "metadata": {},
   "outputs": [
    {
     "data": {
      "text/plain": [
       "28.45741258149261"
      ]
     },
     "execution_count": 33,
     "metadata": {},
     "output_type": "execute_result"
    }
   ],
   "source": [
    "target_stdev"
   ]
  },
  {
   "cell_type": "code",
   "execution_count": 41,
   "id": "75dbf5a5-c35b-445e-9c95-9328c980e71a",
   "metadata": {},
   "outputs": [
    {
     "name": "stdout",
     "output_type": "stream",
     "text": [
      "Average\n",
      "50.0 nan\n",
      "Srinivaspur A\n",
      "63.07842696629213 28.43820516229189\n",
      "Srinivaspur B\n",
      "49.0554915730337 19.27905034062874\n",
      "Srinivaspur A_lead15\n",
      "62.48769662921349 28.45741258149261\n"
     ]
    }
   ],
   "source": [
    "for c in df_train.columns:\n",
    "    print(c)\n",
    "    mean = df_train[c].mean()\n",
    "    stdev = df_train[c].std()\n",
    "    print(mean, stdev)\n",
    "\n",
    "    df_train[c] = (df_train[c] - mean) / stdev\n",
    "    df_test[c] = (df_test[c] - mean) / stdev"
   ]
  },
  {
   "cell_type": "code",
   "execution_count": 42,
   "id": "54fc7609-d09b-4647-a735-3d60aec6bfe7",
   "metadata": {},
   "outputs": [],
   "source": [
    "import torch\n",
    "from torch.utils.data import Dataset\n",
    "\n",
    "class SequenceDataset(Dataset):\n",
    "    def __init__(self, dataframe, target, features, sequence_length=5):\n",
    "        self.features = features\n",
    "        self.target = target\n",
    "        self.sequence_length = sequence_length\n",
    "        self.y = torch.tensor(dataframe[target].values).float()\n",
    "        self.X = torch.tensor(dataframe[features].values).float()\n",
    "\n",
    "    def __len__(self):\n",
    "        return self.X.shape[0]\n",
    "\n",
    "    def __getitem__(self, i): \n",
    "        if i >= self.sequence_length - 1:\n",
    "            i_start = i - self.sequence_length + 1\n",
    "            x = self.X[i_start:(i + 1), :]\n",
    "        else:\n",
    "            padding = self.X[0].repeat(self.sequence_length - i - 1, 1)\n",
    "            x = self.X[0:(i + 1), :]\n",
    "            x = torch.cat((padding, x), 0)\n",
    "\n",
    "        return x, self.y[i]"
   ]
  },
  {
   "cell_type": "code",
   "execution_count": 43,
   "id": "3af86bf3-ee49-4df8-a4a9-be387383d4d7",
   "metadata": {},
   "outputs": [
    {
     "data": {
      "text/plain": [
       "'Srinivaspur A_lead15'"
      ]
     },
     "execution_count": 43,
     "metadata": {},
     "output_type": "execute_result"
    }
   ],
   "source": [
    "target"
   ]
  },
  {
   "cell_type": "code",
   "execution_count": 44,
   "id": "083a6b98-f61e-446a-8852-7c467ea53e49",
   "metadata": {},
   "outputs": [
    {
     "data": {
      "text/plain": [
       "['Average', 'Srinivaspur B']"
      ]
     },
     "execution_count": 44,
     "metadata": {},
     "output_type": "execute_result"
    }
   ],
   "source": [
    "features"
   ]
  },
  {
   "cell_type": "code",
   "execution_count": 45,
   "id": "6c2c34c6-0a4b-4896-8207-22a5d6b67c0c",
   "metadata": {},
   "outputs": [],
   "source": [
    "i = 27\n",
    "sequence_length = 4\n",
    "\n",
    "train_dataset = SequenceDataset(\n",
    "    df_train,\n",
    "    target=target,\n",
    "    features=features,\n",
    "    sequence_length=sequence_length\n",
    ")\n",
    "\n",
    "X, y = train_dataset[i]"
   ]
  },
  {
   "cell_type": "code",
   "execution_count": 46,
   "id": "f629ca30-b20d-4f0f-b58c-62e9097f9d45",
   "metadata": {},
   "outputs": [
    {
     "data": {
      "text/plain": [
       "tensor([[   nan, 0.7171],\n",
       "        [   nan, 0.8260],\n",
       "        [   nan, 0.8530],\n",
       "        [   nan, 0.8732]])"
      ]
     },
     "execution_count": 46,
     "metadata": {},
     "output_type": "execute_result"
    }
   ],
   "source": [
    "X"
   ]
  },
  {
   "cell_type": "code",
   "execution_count": 47,
   "id": "298b0904-ad72-4263-bab4-8fdff8f8c10c",
   "metadata": {},
   "outputs": [
    {
     "data": {
      "text/plain": [
       "tensor(1.1882)"
      ]
     },
     "execution_count": 47,
     "metadata": {},
     "output_type": "execute_result"
    }
   ],
   "source": [
    "y"
   ]
  },
  {
   "cell_type": "code",
   "execution_count": null,
   "id": "d1d0975a-9dc8-4d46-9e7a-9c83929cab9f",
   "metadata": {},
   "outputs": [],
   "source": []
  }
 ],
 "metadata": {
  "kernelspec": {
   "display_name": "Python 3 (ipykernel)",
   "language": "python",
   "name": "python3"
  },
  "language_info": {
   "codemirror_mode": {
    "name": "ipython",
    "version": 3
   },
   "file_extension": ".py",
   "mimetype": "text/x-python",
   "name": "python",
   "nbconvert_exporter": "python",
   "pygments_lexer": "ipython3",
   "version": "3.10.4"
  }
 },
 "nbformat": 4,
 "nbformat_minor": 5
}
